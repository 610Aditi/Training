{
  "nbformat": 4,
  "nbformat_minor": 0,
  "metadata": {
    "colab": {
      "provenance": []
    },
    "kernelspec": {
      "name": "python3",
      "display_name": "Python 3"
    },
    "language_info": {
      "name": "python"
    }
  },
  "cells": [
    {
      "cell_type": "code",
      "execution_count": 1,
      "metadata": {
        "colab": {
          "base_uri": "https://localhost:8080/"
        },
        "id": "u5KeBxWXHPUg",
        "outputId": "d03b46eb-cce6-4a00-c924-1e95139362c1"
      },
      "outputs": [
        {
          "output_type": "stream",
          "name": "stdout",
          "text": [
            "wt:  [0.5, 1, 8, 0.4]\n",
            "data:  [20, 100, 3, 40]\n",
            "prod:  [ 10. 100.  24.  16.]\n",
            "type(prod):  <class 'numpy.ndarray'>\n",
            "sum of product of wt and data:  150.0\n",
            "weighted mmean:  15.15151515151515\n",
            "Weighted mean using direct function:  15.15151515151515\n",
            "type(sum):  <class 'numpy.float64'>\n",
            "Weighted mean using statistics:  40.75\n"
          ]
        }
      ],
      "source": [
        "##\"Techniques for Data Preprocessing\"\n",
        "\n",
        "import numpy\n",
        "import statistics\n",
        "wt=[.5,1,8,.4]\n",
        "data=[20,100,3,40]\n",
        "\n",
        "prod=numpy.multiply(data,wt)\n",
        "print('wt: ',wt)\n",
        "print('data: ',data)\n",
        "print('prod: ',prod)\n",
        "print('type(prod): ',type(prod))\n",
        "sum=numpy.sum(prod)\n",
        "print('sum of product of wt and data: ',sum)\n",
        "wtm=sum/numpy.sum(wt)\n",
        "print('weighted mmean: ',wtm)\n",
        "wtm1=numpy.average(data, weights=wt)\n",
        "print('Weighted mean using direct function: ', wtm1)\n",
        "print('type(sum): ',type(sum))\n",
        "print('Weighted mean using statistics: ',statistics.mean(data))\n",
        "# Use direct method available in statistics"
      ]
    },
    {
      "cell_type": "markdown",
      "source": [
        "If the number of observation is odd then the median is middle value (After arranging all observation in either ascending or descending order) If the number of observations are even the median is arithmetic mean of the middle most to the observations(After arranging all observation in either ascending or descending order)\n",
        "\n",
        "**\"Median for grouped data\" Median=L+((N/2-F)/f)C**"
      ],
      "metadata": {
        "id": "F78cqc9gLDFu"
      }
    },
    {
      "cell_type": "code",
      "source": [
        "data1=numpy.matrix(((10,20,45,30,100),(10,20,45,30,100),(10,20,45,30,100)))\n",
        "w1=numpy.matrix(((.2,.4,.1,.7,.3),(.2,.4,.1,.7,.3),(.2,.4,.1,.7,.3)))\n",
        "\n",
        "wgt_mean1=numpy.average(data1,weights=w1,axis=1)\n",
        "print(\"weighted mean of matrix: \",wgt_mean1)"
      ],
      "metadata": {
        "colab": {
          "base_uri": "https://localhost:8080/"
        },
        "id": "2gcHKnwnKX3w",
        "outputId": "04bbb00b-1326-411b-d57f-d829015e4e92"
      },
      "execution_count": 2,
      "outputs": [
        {
          "output_type": "stream",
          "name": "stdout",
          "text": [
            "wighted mean of matrix:  [[38.52941176]\n",
            " [38.52941176]\n",
            " [38.52941176]]\n"
          ]
        }
      ]
    },
    {
      "cell_type": "code",
      "source": [
        "#Update for grouped data\n",
        "import numpy\n",
        "import statistics\n",
        "import collections\n",
        "a=[100,200,300,100,200,300,400,500,300,700,800,900,1000,800]\n",
        "b=numpy.sort(a)\n",
        "print(type(b))\n",
        "\n",
        "c=collections.Counter(b) #counter will return dict of key and values and order will be random so, no need to provide sorted input\n",
        "print('type(c): ',type(c))\n",
        "print('type(c.keys()): ',type(c.keys()), 'type(c.values()): ',type(c.values()))\n",
        "uniqueList, frequencyList = list(c.keys()), list(c.values())\n",
        "print('unique list of data: ',uniqueList)\n",
        "print('frequency set: ',frequencyList)\n",
        "\n",
        "cumSumOfFreq = numpy.cumsum(frequencyList)\n",
        "print('cummulative sum of frequencyList: ',cumSumOfFreq)\n",
        "print(len(cumSumOfFreq))\n",
        "lastElement=cumSumOfFreq[len(cumSumOfFreq)-1]\n",
        "\n",
        "print('last element of cumulative sum list of frequency: ', lastElement)\n",
        "print(type(lastElement))\n",
        "j=lastElement/2\n",
        "#????\n",
        "print(j)\n",
        "#use direct function to find grouped median\n",
        "print(statistics.median_grouped(a))"
      ],
      "metadata": {
        "colab": {
          "base_uri": "https://localhost:8080/"
        },
        "id": "K3RhKOPZLXZD",
        "outputId": "a60a8a31-d9f3-4ddd-e1c3-d803d96bf833"
      },
      "execution_count": 3,
      "outputs": [
        {
          "output_type": "stream",
          "name": "stdout",
          "text": [
            "<class 'numpy.ndarray'>\n",
            "type(c):  <class 'collections.Counter'>\n",
            "type(c.keys()):  <class 'dict_keys'> type(c.values()):  <class 'dict_values'>\n",
            "unique list of data:  [np.int64(100), np.int64(200), np.int64(300), np.int64(400), np.int64(500), np.int64(700), np.int64(800), np.int64(900), np.int64(1000)]\n",
            "frequency set:  [2, 2, 3, 1, 1, 1, 2, 1, 1]\n",
            "cummulative sum of frequencyList:  [ 2  4  7  8  9 10 12 13 14]\n",
            "9\n",
            "last element of cumulative sum list of frequency:  14\n",
            "<class 'numpy.int64'>\n",
            "7.0\n",
            "399.5\n"
          ]
        }
      ]
    },
    {
      "cell_type": "code",
      "source": [
        "import numpy\n",
        "import statistics\n",
        "import collections\n",
        "\n",
        "a = [100, 200, 300, 100, 200, 300, 400, 500, 300, 700, 800, 900, 1000, 800]\n",
        "b = numpy.sort(a)\n",
        "print(type(b))\n",
        "\n",
        "c = collections.Counter(b)\n",
        "print('type(c): ', type(c))\n",
        "print('type(c.keys()): ', type(c.keys()), 'type(c.values()): ', type(c.values()))\n",
        "uniqueList, frequencyList = list(c.keys()), list(c.values())\n",
        "print('unique list of data: ', uniqueList)\n",
        "print('frequency set: ', frequencyList)\n",
        "\n",
        "cumSumOfFreq = numpy.cumsum(frequencyList)\n",
        "print('cumulative sum of frequencyList: ', cumSumOfFreq)\n",
        "print(len(cumSumOfFreq))\n",
        "lastElement = cumSumOfFreq[-1]\n",
        "print('last element of cumulative sum list of frequency: ', lastElement)\n",
        "\n",
        "j = lastElement / 2  # Median position (N/2)\n",
        "print('Median Position (N/2):', j)\n",
        "\n",
        "# Find the median class (or value) — the first cumulative frequency ≥ j\n",
        "for idx, cum_freq in enumerate(cumSumOfFreq):\n",
        "    if cum_freq >= j:\n",
        "        median_value = uniqueList[idx]\n",
        "        break\n",
        "\n",
        "print(\"Grouped Median (using Numpy and logic):\", median_value)\n",
        "\n",
        "# You can also compare it to median using the full data (ungrouped method)\n",
        "print(\"Ungrouped Median using statistics module:\", statistics.median(a))\n"
      ],
      "metadata": {
        "colab": {
          "base_uri": "https://localhost:8080/"
        },
        "id": "w6LDgwwiLiEe",
        "outputId": "6e4925fe-0b97-4e3d-c269-6db6ee89fd81"
      },
      "execution_count": 4,
      "outputs": [
        {
          "output_type": "stream",
          "name": "stdout",
          "text": [
            "<class 'numpy.ndarray'>\n",
            "type(c):  <class 'collections.Counter'>\n",
            "type(c.keys()):  <class 'dict_keys'> type(c.values()):  <class 'dict_values'>\n",
            "unique list of data:  [np.int64(100), np.int64(200), np.int64(300), np.int64(400), np.int64(500), np.int64(700), np.int64(800), np.int64(900), np.int64(1000)]\n",
            "frequency set:  [2, 2, 3, 1, 1, 1, 2, 1, 1]\n",
            "cumulative sum of frequencyList:  [ 2  4  7  8  9 10 12 13 14]\n",
            "9\n",
            "last element of cumulative sum list of frequency:  14\n",
            "Median Position (N/2): 7.0\n",
            "Grouped Median (using Numpy and logic): 300\n",
            "Ungrouped Median using statistics module: 350.0\n"
          ]
        }
      ]
    },
    {
      "cell_type": "code",
      "source": [],
      "metadata": {
        "id": "nR86XDadLp6h"
      },
      "execution_count": null,
      "outputs": []
    }
  ]
}