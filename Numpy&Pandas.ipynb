{
  "nbformat": 4,
  "nbformat_minor": 0,
  "metadata": {
    "colab": {
      "provenance": [],
      "mount_file_id": "1uyHu6jAxga9jvKpwhIiiGcN9YKEAAoqa",
      "authorship_tag": "ABX9TyPyxLKf0slhcZ/KPAcaiz7k",
      "include_colab_link": true
    },
    "kernelspec": {
      "name": "python3",
      "display_name": "Python 3"
    },
    "language_info": {
      "name": "python"
    }
  },
  "cells": [
    {
      "cell_type": "markdown",
      "metadata": {
        "id": "view-in-github",
        "colab_type": "text"
      },
      "source": [
        "<a href=\"https://colab.research.google.com/github/610Aditi/Training/blob/main/Numpy%26Pandas.ipynb\" target=\"_parent\"><img src=\"https://colab.research.google.com/assets/colab-badge.svg\" alt=\"Open In Colab\"/></a>"
      ]
    },
    {
      "cell_type": "code",
      "execution_count": null,
      "metadata": {
        "colab": {
          "base_uri": "https://localhost:8080/"
        },
        "id": "yDS-DpVBds9U",
        "outputId": "b4a5a33d-fbc8-40b9-f5c0-2658b38f1aff"
      },
      "outputs": [
        {
          "output_type": "execute_result",
          "data": {
            "text/plain": [
              "array([ 1,  2,  3,  4,  5,  6,  7,  8,  9, 10])"
            ]
          },
          "metadata": {},
          "execution_count": 1
        }
      ],
      "source": [
        "import numpy as np\n",
        "sample_arr = np.arange(1,11)\n",
        "sample_arr"
      ]
    },
    {
      "cell_type": "markdown",
      "source": [],
      "metadata": {
        "id": "Ea8op21MlmZD"
      }
    },
    {
      "cell_type": "code",
      "source": [
        "sample_list_of_lists = ([[1,2,3],[4,5,6],[7,8,9]])\n",
        "np.array(sample_list_of_lists)\n"
      ],
      "metadata": {
        "colab": {
          "base_uri": "https://localhost:8080/"
        },
        "id": "Chfms54vlojy",
        "outputId": "6b093469-7c4f-4aa1-ec79-b82208c0f173"
      },
      "execution_count": null,
      "outputs": [
        {
          "output_type": "execute_result",
          "data": {
            "text/plain": [
              "array([[1, 2, 3],\n",
              "       [4, 5, 6],\n",
              "       [7, 8, 9]])"
            ]
          },
          "metadata": {},
          "execution_count": 2
        }
      ]
    },
    {
      "cell_type": "code",
      "source": [
        "np.arange(2,20,3)"
      ],
      "metadata": {
        "colab": {
          "base_uri": "https://localhost:8080/"
        },
        "id": "u5VcQyaNmI8b",
        "outputId": "500ec960-f025-496d-bc16-be3364904e71"
      },
      "execution_count": null,
      "outputs": [
        {
          "output_type": "execute_result",
          "data": {
            "text/plain": [
              "array([ 2,  5,  8, 11, 14, 17])"
            ]
          },
          "metadata": {},
          "execution_count": 3
        }
      ]
    },
    {
      "cell_type": "code",
      "source": [
        "a=np.arange(25)\n",
        "a"
      ],
      "metadata": {
        "colab": {
          "base_uri": "https://localhost:8080/"
        },
        "id": "2qmcaKlbnOtf",
        "outputId": "5136ee25-7d43-4fd3-a78f-b13f2d229e97"
      },
      "execution_count": null,
      "outputs": [
        {
          "output_type": "execute_result",
          "data": {
            "text/plain": [
              "array([ 0,  1,  2,  3,  4,  5,  6,  7,  8,  9, 10, 11, 12, 13, 14, 15, 16,\n",
              "       17, 18, 19, 20, 21, 22, 23, 24])"
            ]
          },
          "metadata": {},
          "execution_count": 4
        }
      ]
    },
    {
      "cell_type": "code",
      "source": [
        "a.reshape(5,5)"
      ],
      "metadata": {
        "colab": {
          "base_uri": "https://localhost:8080/"
        },
        "id": "Aq1JmV7FnOwf",
        "outputId": "78671985-0107-4d33-b108-ef848e90e1aa"
      },
      "execution_count": null,
      "outputs": [
        {
          "output_type": "execute_result",
          "data": {
            "text/plain": [
              "array([[ 0,  1,  2,  3,  4],\n",
              "       [ 5,  6,  7,  8,  9],\n",
              "       [10, 11, 12, 13, 14],\n",
              "       [15, 16, 17, 18, 19],\n",
              "       [20, 21, 22, 23, 24]])"
            ]
          },
          "metadata": {},
          "execution_count": 5
        }
      ]
    },
    {
      "cell_type": "code",
      "source": [
        "np.zeros(2)"
      ],
      "metadata": {
        "colab": {
          "base_uri": "https://localhost:8080/"
        },
        "id": "j8GU3wssnOzd",
        "outputId": "3d8f48cc-a3f9-4aa6-dc6b-6d5dee226b25"
      },
      "execution_count": null,
      "outputs": [
        {
          "output_type": "execute_result",
          "data": {
            "text/plain": [
              "array([0., 0.])"
            ]
          },
          "metadata": {},
          "execution_count": 6
        }
      ]
    },
    {
      "cell_type": "code",
      "source": [
        "np.zeros((3,3))"
      ],
      "metadata": {
        "colab": {
          "base_uri": "https://localhost:8080/"
        },
        "id": "_qjIVZmmnO2U",
        "outputId": "25887682-cfd6-4e4a-9c70-7d6fdedc2cf9"
      },
      "execution_count": null,
      "outputs": [
        {
          "output_type": "execute_result",
          "data": {
            "text/plain": [
              "array([[0., 0., 0.],\n",
              "       [0., 0., 0.],\n",
              "       [0., 0., 0.]])"
            ]
          },
          "metadata": {},
          "execution_count": 7
        }
      ]
    },
    {
      "cell_type": "code",
      "source": [
        "np.zeros((3,3,3))"
      ],
      "metadata": {
        "colab": {
          "base_uri": "https://localhost:8080/"
        },
        "id": "z8dgK-lInO5j",
        "outputId": "7f24801c-dae4-43e5-9284-da555767c161"
      },
      "execution_count": null,
      "outputs": [
        {
          "output_type": "execute_result",
          "data": {
            "text/plain": [
              "array([[[0., 0., 0.],\n",
              "        [0., 0., 0.],\n",
              "        [0., 0., 0.]],\n",
              "\n",
              "       [[0., 0., 0.],\n",
              "        [0., 0., 0.],\n",
              "        [0., 0., 0.]],\n",
              "\n",
              "       [[0., 0., 0.],\n",
              "        [0., 0., 0.],\n",
              "        [0., 0., 0.]]])"
            ]
          },
          "metadata": {},
          "execution_count": 8
        }
      ]
    },
    {
      "cell_type": "code",
      "source": [
        "np.linspace(0,10,5)  #generate equal distance 10 number"
      ],
      "metadata": {
        "colab": {
          "base_uri": "https://localhost:8080/"
        },
        "id": "GngRS7yMnO8J",
        "outputId": "b6d26dd3-56ea-4e67-cd7c-64eda6dfaf8b"
      },
      "execution_count": null,
      "outputs": [
        {
          "output_type": "execute_result",
          "data": {
            "text/plain": [
              "array([ 0. ,  2.5,  5. ,  7.5, 10. ])"
            ]
          },
          "metadata": {},
          "execution_count": 9
        }
      ]
    },
    {
      "cell_type": "code",
      "source": [
        "np.eye(3)"
      ],
      "metadata": {
        "colab": {
          "base_uri": "https://localhost:8080/"
        },
        "id": "kNPHgXFEnO_L",
        "outputId": "56c64255-d216-4e77-a470-8d98084a7562"
      },
      "execution_count": null,
      "outputs": [
        {
          "output_type": "execute_result",
          "data": {
            "text/plain": [
              "array([[1., 0., 0.],\n",
              "       [0., 1., 0.],\n",
              "       [0., 0., 1.]])"
            ]
          },
          "metadata": {},
          "execution_count": 10
        }
      ]
    },
    {
      "cell_type": "code",
      "source": [
        "np.random.rand(3) # it will generate random values uniformly"
      ],
      "metadata": {
        "colab": {
          "base_uri": "https://localhost:8080/"
        },
        "id": "9d2G-CXunPCC",
        "outputId": "4a943c26-b7fc-47e8-b728-444f7a1c032c"
      },
      "execution_count": null,
      "outputs": [
        {
          "output_type": "execute_result",
          "data": {
            "text/plain": [
              "array([0.90192952, 0.53519007, 0.52816434])"
            ]
          },
          "metadata": {},
          "execution_count": 11
        }
      ]
    },
    {
      "cell_type": "code",
      "source": [
        "np.random.rand(3,3)"
      ],
      "metadata": {
        "colab": {
          "base_uri": "https://localhost:8080/"
        },
        "id": "7QQPuQNlnPFD",
        "outputId": "7d76b3e2-7956-48fa-eb02-412af79090b8"
      },
      "execution_count": null,
      "outputs": [
        {
          "output_type": "execute_result",
          "data": {
            "text/plain": [
              "array([[0.89137283, 0.24249804, 0.16296616],\n",
              "       [0.28972159, 0.28857437, 0.20080326],\n",
              "       [0.90772125, 0.41944491, 0.81587468]])"
            ]
          },
          "metadata": {},
          "execution_count": 12
        }
      ]
    },
    {
      "cell_type": "code",
      "source": [
        "b = np.random.randn(3,3)\n",
        "b"
      ],
      "metadata": {
        "colab": {
          "base_uri": "https://localhost:8080/"
        },
        "id": "QrKd1uPMnPHw",
        "outputId": "21452733-423e-47b1-f3cc-67140b4a88a7"
      },
      "execution_count": null,
      "outputs": [
        {
          "output_type": "execute_result",
          "data": {
            "text/plain": [
              "array([[ 0.70798604,  1.80951392,  1.41661849],\n",
              "       [-0.99059887,  1.38048593,  0.42772498],\n",
              "       [ 1.58645473,  1.32762063, -0.72210296]])"
            ]
          },
          "metadata": {},
          "execution_count": 13
        }
      ]
    },
    {
      "cell_type": "code",
      "source": [
        "b.shape"
      ],
      "metadata": {
        "colab": {
          "base_uri": "https://localhost:8080/"
        },
        "id": "LWKAqWOenPLF",
        "outputId": "9b023a61-63c9-4330-cd59-5bb1116bb410"
      },
      "execution_count": null,
      "outputs": [
        {
          "output_type": "execute_result",
          "data": {
            "text/plain": [
              "(3, 3)"
            ]
          },
          "metadata": {},
          "execution_count": 14
        }
      ]
    },
    {
      "cell_type": "code",
      "source": [
        "b.dtype"
      ],
      "metadata": {
        "colab": {
          "base_uri": "https://localhost:8080/"
        },
        "id": "_5nboTGophrv",
        "outputId": "d7bcd9af-2904-4496-eff8-0ec2c534e073"
      },
      "execution_count": null,
      "outputs": [
        {
          "output_type": "execute_result",
          "data": {
            "text/plain": [
              "dtype('float64')"
            ]
          },
          "metadata": {},
          "execution_count": 15
        }
      ]
    },
    {
      "cell_type": "code",
      "source": [
        "random_arr = np.random.randint(0,10,20)\n",
        "random_arr"
      ],
      "metadata": {
        "colab": {
          "base_uri": "https://localhost:8080/"
        },
        "id": "skIj0O-1ph6l",
        "outputId": "a977bded-2128-4948-fccd-b6c2f3a6b64b"
      },
      "execution_count": null,
      "outputs": [
        {
          "output_type": "execute_result",
          "data": {
            "text/plain": [
              "array([4, 7, 0, 1, 5, 3, 1, 5, 5, 2, 6, 7, 5, 1, 9, 2, 0, 7, 3, 1])"
            ]
          },
          "metadata": {},
          "execution_count": 16
        }
      ]
    },
    {
      "cell_type": "code",
      "source": [
        "random_arr.max()\n"
      ],
      "metadata": {
        "colab": {
          "base_uri": "https://localhost:8080/"
        },
        "id": "4jJvg-j_piGO",
        "outputId": "a2220209-3d23-488e-ecab-3b32232248aa"
      },
      "execution_count": null,
      "outputs": [
        {
          "output_type": "execute_result",
          "data": {
            "text/plain": [
              "np.int64(9)"
            ]
          },
          "metadata": {},
          "execution_count": 17
        }
      ]
    },
    {
      "cell_type": "code",
      "source": [
        "ab=(4,)  # it will be tuple\n",
        "type(ab)"
      ],
      "metadata": {
        "colab": {
          "base_uri": "https://localhost:8080/"
        },
        "id": "Os6r_WTNpiJz",
        "outputId": "6a6f2081-8832-45c9-a604-5cf7580b2d2d"
      },
      "execution_count": null,
      "outputs": [
        {
          "output_type": "execute_result",
          "data": {
            "text/plain": [
              "tuple"
            ]
          },
          "metadata": {},
          "execution_count": 18
        }
      ]
    },
    {
      "cell_type": "code",
      "source": [
        "a=(1)  #it is not tuple\n",
        "type(a)\n"
      ],
      "metadata": {
        "colab": {
          "base_uri": "https://localhost:8080/"
        },
        "id": "6uKeSsYPq31X",
        "outputId": "f02b98fe-877b-4756-f75c-a52899ac0f7f"
      },
      "execution_count": null,
      "outputs": [
        {
          "output_type": "execute_result",
          "data": {
            "text/plain": [
              "int"
            ]
          },
          "metadata": {},
          "execution_count": 19
        }
      ]
    },
    {
      "cell_type": "code",
      "source": [
        "random_arr.argmin()"
      ],
      "metadata": {
        "colab": {
          "base_uri": "https://localhost:8080/"
        },
        "id": "WXKtfIRbq3_A",
        "outputId": "3512c556-d7c8-450b-ef2e-2ed9eda6b081"
      },
      "execution_count": null,
      "outputs": [
        {
          "output_type": "execute_result",
          "data": {
            "text/plain": [
              "np.int64(2)"
            ]
          },
          "metadata": {},
          "execution_count": 20
        }
      ]
    },
    {
      "cell_type": "code",
      "source": [
        "random_arr.argmin()"
      ],
      "metadata": {
        "colab": {
          "base_uri": "https://localhost:8080/"
        },
        "id": "cBnR3x9qrTH2",
        "outputId": "e1cbb038-064e-4636-aa0b-77fabbc39286"
      },
      "execution_count": null,
      "outputs": [
        {
          "output_type": "execute_result",
          "data": {
            "text/plain": [
              "np.int64(2)"
            ]
          },
          "metadata": {},
          "execution_count": 21
        }
      ]
    },
    {
      "cell_type": "code",
      "source": [
        "sample_arr"
      ],
      "metadata": {
        "id": "c8Utgm8Id-Ig",
        "colab": {
          "base_uri": "https://localhost:8080/"
        },
        "outputId": "8ab9840b-924d-4079-a907-9aded4c14cd0"
      },
      "execution_count": null,
      "outputs": [
        {
          "output_type": "execute_result",
          "data": {
            "text/plain": [
              "array([ 1,  2,  3,  4,  5,  6,  7,  8,  9, 10])"
            ]
          },
          "metadata": {},
          "execution_count": 22
        }
      ]
    },
    {
      "cell_type": "code",
      "source": [
        "sample_arr[2]"
      ],
      "metadata": {
        "id": "vlVrZ4V0eADn",
        "colab": {
          "base_uri": "https://localhost:8080/"
        },
        "outputId": "c98add1d-5ead-4939-8a0c-098bac07ad19"
      },
      "execution_count": null,
      "outputs": [
        {
          "output_type": "execute_result",
          "data": {
            "text/plain": [
              "np.int64(3)"
            ]
          },
          "metadata": {},
          "execution_count": 23
        }
      ]
    },
    {
      "cell_type": "code",
      "source": [
        "sample_arr[3:]"
      ],
      "metadata": {
        "id": "UUY3HpJ7eGek",
        "colab": {
          "base_uri": "https://localhost:8080/"
        },
        "outputId": "e99b5d76-56f3-45d4-b32a-ac8403dc02ca"
      },
      "execution_count": null,
      "outputs": [
        {
          "output_type": "execute_result",
          "data": {
            "text/plain": [
              "array([ 4,  5,  6,  7,  8,  9, 10])"
            ]
          },
          "metadata": {},
          "execution_count": 24
        }
      ]
    },
    {
      "cell_type": "code",
      "source": [
        "sample_mat = np.array([[1,2,7],[3,4,9],[5,6,8]])"
      ],
      "metadata": {
        "id": "ejGfK5p3eUW2"
      },
      "execution_count": null,
      "outputs": []
    },
    {
      "cell_type": "code",
      "source": [
        "sample_mat"
      ],
      "metadata": {
        "id": "QqoGYIvheqT5",
        "colab": {
          "base_uri": "https://localhost:8080/"
        },
        "outputId": "06176f18-82ad-49bf-fc76-6092a005f697"
      },
      "execution_count": null,
      "outputs": [
        {
          "output_type": "execute_result",
          "data": {
            "text/plain": [
              "array([[1, 2, 7],\n",
              "       [3, 4, 9],\n",
              "       [5, 6, 8]])"
            ]
          },
          "metadata": {},
          "execution_count": 26
        }
      ]
    },
    {
      "cell_type": "code",
      "source": [
        "sample_mat[0]"
      ],
      "metadata": {
        "id": "XRKOd4eSet8Z",
        "colab": {
          "base_uri": "https://localhost:8080/"
        },
        "outputId": "1a818764-9223-4291-d992-10cc07e99b2d"
      },
      "execution_count": null,
      "outputs": [
        {
          "output_type": "execute_result",
          "data": {
            "text/plain": [
              "array([1, 2, 7])"
            ]
          },
          "metadata": {},
          "execution_count": 27
        }
      ]
    },
    {
      "cell_type": "code",
      "source": [
        "sample_mat[1][2]"
      ],
      "metadata": {
        "id": "Tt9i0l7mezSU",
        "colab": {
          "base_uri": "https://localhost:8080/"
        },
        "outputId": "086eb7d1-0d2f-4688-b0bd-7a60488d09f8"
      },
      "execution_count": null,
      "outputs": [
        {
          "output_type": "execute_result",
          "data": {
            "text/plain": [
              "np.int64(9)"
            ]
          },
          "metadata": {},
          "execution_count": 28
        }
      ]
    },
    {
      "cell_type": "code",
      "source": [
        "sample_mat[1,2]"
      ],
      "metadata": {
        "id": "gboeAIfNe7lU",
        "colab": {
          "base_uri": "https://localhost:8080/"
        },
        "outputId": "4768d0df-0f24-43b8-ce14-5a50a17ac801"
      },
      "execution_count": null,
      "outputs": [
        {
          "output_type": "execute_result",
          "data": {
            "text/plain": [
              "np.int64(9)"
            ]
          },
          "metadata": {},
          "execution_count": 29
        }
      ]
    },
    {
      "cell_type": "code",
      "source": [
        "sample_mat[1:2]"
      ],
      "metadata": {
        "id": "L0UA9UQNfRPo",
        "colab": {
          "base_uri": "https://localhost:8080/"
        },
        "outputId": "74a2875e-744b-4ff5-bb59-280ac888b6bf"
      },
      "execution_count": null,
      "outputs": [
        {
          "output_type": "execute_result",
          "data": {
            "text/plain": [
              "array([[3, 4, 9]])"
            ]
          },
          "metadata": {},
          "execution_count": 30
        }
      ]
    },
    {
      "cell_type": "code",
      "source": [
        "sample_mat[:2,1:]"
      ],
      "metadata": {
        "id": "I5EamS1IfkoY",
        "colab": {
          "base_uri": "https://localhost:8080/"
        },
        "outputId": "7307a966-1005-4b12-e672-cb1b64f86348"
      },
      "execution_count": null,
      "outputs": [
        {
          "output_type": "execute_result",
          "data": {
            "text/plain": [
              "array([[2, 7],\n",
              "       [4, 9]])"
            ]
          },
          "metadata": {},
          "execution_count": 31
        }
      ]
    },
    {
      "cell_type": "code",
      "source": [
        "sample_mat[1,1:]"
      ],
      "metadata": {
        "id": "_cocnp9ugIvQ",
        "colab": {
          "base_uri": "https://localhost:8080/"
        },
        "outputId": "87fc8cd2-8cb6-4f0c-b5cb-4b473a6c4c8f"
      },
      "execution_count": null,
      "outputs": [
        {
          "output_type": "execute_result",
          "data": {
            "text/plain": [
              "array([4, 9])"
            ]
          },
          "metadata": {},
          "execution_count": 32
        }
      ]
    },
    {
      "cell_type": "code",
      "source": [
        "sample_mat[0:5]"
      ],
      "metadata": {
        "id": "sYrgfXh1g8BX",
        "colab": {
          "base_uri": "https://localhost:8080/"
        },
        "outputId": "131eb532-3e4d-4bae-ddf5-7d54451867e6"
      },
      "execution_count": null,
      "outputs": [
        {
          "output_type": "execute_result",
          "data": {
            "text/plain": [
              "array([[1, 2, 7],\n",
              "       [3, 4, 9],\n",
              "       [5, 6, 8]])"
            ]
          },
          "metadata": {},
          "execution_count": 33
        }
      ]
    },
    {
      "cell_type": "code",
      "source": [
        "sample_arr[0:3] = 400\n",
        "sample_arr"
      ],
      "metadata": {
        "id": "wcsnzIiMg85E",
        "colab": {
          "base_uri": "https://localhost:8080/"
        },
        "outputId": "54b438c1-a885-4ef8-c655-4f49cc52b0cc"
      },
      "execution_count": null,
      "outputs": [
        {
          "output_type": "execute_result",
          "data": {
            "text/plain": [
              "array([400, 400, 400,   4,   5,   6,   7,   8,   9,  10])"
            ]
          },
          "metadata": {},
          "execution_count": 34
        }
      ]
    },
    {
      "cell_type": "code",
      "source": [
        "print(id(sample_arr[0:5]))\n",
        "slice_Of_sample_arr = sample_arr[0:5]\n",
        "s=slice_Of_sample_arr\n",
        "print(id(slice_Of_sample_arr))\n",
        "print(id(sample_arr))\n",
        "print(id(s))\n"
      ],
      "metadata": {
        "colab": {
          "base_uri": "https://localhost:8080/"
        },
        "id": "hhp_xBUBhX7E",
        "outputId": "7539bf7f-9578-4c63-cc3a-f54c3382cdb1"
      },
      "execution_count": null,
      "outputs": [
        {
          "output_type": "stream",
          "name": "stdout",
          "text": [
            "140512446553936\n",
            "140512446554992\n",
            "140512457110704\n",
            "140512446554992\n"
          ]
        }
      ]
    },
    {
      "cell_type": "code",
      "source": [
        "slice_Of_sample_arr[:] = 500\n",
        "slice_Of_sample_arr"
      ],
      "metadata": {
        "colab": {
          "base_uri": "https://localhost:8080/"
        },
        "id": "8uJOeTsHlIPD",
        "outputId": "ad7b5a60-a968-460e-a249-c84b6288f3df"
      },
      "execution_count": null,
      "outputs": [
        {
          "output_type": "execute_result",
          "data": {
            "text/plain": [
              "array([500, 500, 500, 500, 500])"
            ]
          },
          "metadata": {},
          "execution_count": 36
        }
      ]
    },
    {
      "cell_type": "code",
      "source": [
        "sample_arr"
      ],
      "metadata": {
        "colab": {
          "base_uri": "https://localhost:8080/"
        },
        "id": "ddT5fW69iqf3",
        "outputId": "33556097-c0e6-4849-b512-cfa0cd85f7e5"
      },
      "execution_count": null,
      "outputs": [
        {
          "output_type": "execute_result",
          "data": {
            "text/plain": [
              "array([500, 500, 500, 500, 500,   6,   7,   8,   9,  10])"
            ]
          },
          "metadata": {},
          "execution_count": 37
        }
      ]
    },
    {
      "cell_type": "code",
      "source": [
        "sample_arr = np.arange(1,11)\n",
        "sample_arr"
      ],
      "metadata": {
        "colab": {
          "base_uri": "https://localhost:8080/"
        },
        "id": "iakhOztPu6Zf",
        "outputId": "dee63bcb-dfd3-423c-b13f-4a43cb382f26"
      },
      "execution_count": null,
      "outputs": [
        {
          "output_type": "execute_result",
          "data": {
            "text/plain": [
              "array([ 1,  2,  3,  4,  5,  6,  7,  8,  9, 10])"
            ]
          },
          "metadata": {},
          "execution_count": 38
        }
      ]
    },
    {
      "cell_type": "code",
      "source": [
        "boolean_arr = sample_arr > 5\n",
        "print(boolean_arr)\n",
        "type(boolean_arr)"
      ],
      "metadata": {
        "id": "hlh9JlO2nG1n",
        "colab": {
          "base_uri": "https://localhost:8080/"
        },
        "outputId": "b4242065-dac6-4848-d055-2efeac12a065"
      },
      "execution_count": null,
      "outputs": [
        {
          "output_type": "stream",
          "name": "stdout",
          "text": [
            "[False False False False False  True  True  True  True  True]\n"
          ]
        },
        {
          "output_type": "execute_result",
          "data": {
            "text/plain": [
              "numpy.ndarray"
            ]
          },
          "metadata": {},
          "execution_count": 39
        }
      ]
    },
    {
      "cell_type": "code",
      "source": [
        "sample_arr[boolean_arr]"
      ],
      "metadata": {
        "colab": {
          "base_uri": "https://localhost:8080/"
        },
        "id": "jiKTHYMDs3yj",
        "outputId": "075baf7b-381a-4633-917d-8f1522efb215"
      },
      "execution_count": null,
      "outputs": [
        {
          "output_type": "execute_result",
          "data": {
            "text/plain": [
              "array([ 6,  7,  8,  9, 10])"
            ]
          },
          "metadata": {},
          "execution_count": 40
        }
      ]
    },
    {
      "cell_type": "code",
      "source": [
        "sample_arr[sample_arr>5]"
      ],
      "metadata": {
        "colab": {
          "base_uri": "https://localhost:8080/"
        },
        "id": "ALpQh4estq5T",
        "outputId": "64d261ef-be2f-41ee-d8ca-e4c523790f79"
      },
      "execution_count": null,
      "outputs": [
        {
          "output_type": "execute_result",
          "data": {
            "text/plain": [
              "array([ 6,  7,  8,  9, 10])"
            ]
          },
          "metadata": {},
          "execution_count": 41
        }
      ]
    },
    {
      "cell_type": "code",
      "source": [
        "print(np.add(a,b))\n",
        "#print(np.subtract(a,b))\n",
        "#print(np.multiply(a,b))\n",
        "#print(np.divide(a,b))\n",
        "#print(np.mod(a,b))"
      ],
      "metadata": {
        "colab": {
          "base_uri": "https://localhost:8080/"
        },
        "id": "zYvCH6SotwJa",
        "outputId": "78cfdacf-2d38-4415-eb82-b2fa32306b38"
      },
      "execution_count": null,
      "outputs": [
        {
          "output_type": "stream",
          "name": "stdout",
          "text": [
            "[[1.70798604 2.80951392 2.41661849]\n",
            " [0.00940113 2.38048593 1.42772498]\n",
            " [2.58645473 2.32762063 0.27789704]]\n"
          ]
        }
      ]
    },
    {
      "cell_type": "code",
      "source": [
        "arr_2D = np.arange(50).reshape(5,10)"
      ],
      "metadata": {
        "id": "6NsTgPWeuJvD"
      },
      "execution_count": null,
      "outputs": []
    },
    {
      "cell_type": "code",
      "source": [
        "arr_2D"
      ],
      "metadata": {
        "colab": {
          "base_uri": "https://localhost:8080/"
        },
        "id": "Y-ZLljxtv5SL",
        "outputId": "b0aa62d9-50b5-4ce7-ef56-87ebf990be50"
      },
      "execution_count": null,
      "outputs": [
        {
          "output_type": "execute_result",
          "data": {
            "text/plain": [
              "array([[ 0,  1,  2,  3,  4,  5,  6,  7,  8,  9],\n",
              "       [10, 11, 12, 13, 14, 15, 16, 17, 18, 19],\n",
              "       [20, 21, 22, 23, 24, 25, 26, 27, 28, 29],\n",
              "       [30, 31, 32, 33, 34, 35, 36, 37, 38, 39],\n",
              "       [40, 41, 42, 43, 44, 45, 46, 47, 48, 49]])"
            ]
          },
          "metadata": {},
          "execution_count": 44
        }
      ]
    },
    {
      "cell_type": "code",
      "source": [
        "a = np.arange(0,11)"
      ],
      "metadata": {
        "id": "8paFdDcVv7et"
      },
      "execution_count": null,
      "outputs": []
    },
    {
      "cell_type": "code",
      "source": [
        "a"
      ],
      "metadata": {
        "colab": {
          "base_uri": "https://localhost:8080/"
        },
        "id": "XFYyOO1JwA3o",
        "outputId": "3b03b8c1-1a4a-4feb-dafa-97883d224f0e"
      },
      "execution_count": null,
      "outputs": [
        {
          "output_type": "execute_result",
          "data": {
            "text/plain": [
              "array([ 0,  1,  2,  3,  4,  5,  6,  7,  8,  9, 10])"
            ]
          },
          "metadata": {},
          "execution_count": 46
        }
      ]
    },
    {
      "cell_type": "code",
      "source": [
        "b = np.dot(a,100)\n",
        "b\n",
        "# c = np.cross(b,a)\n",
        "# c\n"
      ],
      "metadata": {
        "colab": {
          "base_uri": "https://localhost:8080/"
        },
        "id": "3I2a7FNVwCge",
        "outputId": "4aa0b4df-5fdc-4cf1-ff0f-597866111d7e"
      },
      "execution_count": null,
      "outputs": [
        {
          "output_type": "execute_result",
          "data": {
            "text/plain": [
              "array([   0,  100,  200,  300,  400,  500,  600,  700,  800,  900, 1000])"
            ]
          },
          "metadata": {},
          "execution_count": 47
        }
      ]
    },
    {
      "cell_type": "markdown",
      "source": [
        "implement bubble sort in python"
      ],
      "metadata": {
        "id": "k2-wN_FDwbTg"
      }
    },
    {
      "cell_type": "code",
      "source": [
        "#3d vectors\n",
        "a=np.array([1,2,3])\n",
        "b=np.array([4,5,6])\n",
        "cross_product_3d = np.cross(a,b)\n",
        "print(f\"cross product of a and b is {cross_product_3d}\")\n",
        "\n",
        "\n",
        "\n",
        "#2d vectors\n",
        "x=np.array([1,2])\n",
        "y=np.array([4,5])\n",
        "cross_product_2d = np.cross(a,b)\n",
        "print(f\"cross product of a and b is {cross_product_2d}\")\n"
      ],
      "metadata": {
        "colab": {
          "base_uri": "https://localhost:8080/"
        },
        "id": "UTT-MofPwXkt",
        "outputId": "6cd6f2ab-a390-4fbf-fa45-972fa4645027"
      },
      "execution_count": null,
      "outputs": [
        {
          "output_type": "stream",
          "name": "stdout",
          "text": [
            "cross product of a and b is [-3  6 -3]\n",
            "cross product of a and b is [-3  6 -3]\n"
          ]
        }
      ]
    },
    {
      "cell_type": "code",
      "source": [
        "print(a/a)"
      ],
      "metadata": {
        "colab": {
          "base_uri": "https://localhost:8080/"
        },
        "id": "J1-_1SixxDNP",
        "outputId": "d39d5b42-63ec-4677-a578-ef9bfecdfdf9"
      },
      "execution_count": null,
      "outputs": [
        {
          "output_type": "stream",
          "name": "stdout",
          "text": [
            "[1. 1. 1.]\n"
          ]
        }
      ]
    },
    {
      "cell_type": "code",
      "source": [
        "print(1/a)"
      ],
      "metadata": {
        "colab": {
          "base_uri": "https://localhost:8080/"
        },
        "id": "Ixc5uPNJxGWy",
        "outputId": "d4b8609c-e1fc-45f9-fcaa-04678578445f"
      },
      "execution_count": null,
      "outputs": [
        {
          "output_type": "stream",
          "name": "stdout",
          "text": [
            "[1.         0.5        0.33333333]\n"
          ]
        }
      ]
    },
    {
      "cell_type": "code",
      "source": [
        "import numpy\n",
        "cofficient = [12,3,4,5,6,7,10]\n",
        "polynomialExp = numpy.poly1d(cofficient)\n",
        "print(\"type of polynomial = \",type(polynomialExp))\n",
        "print(\"Polynomial expression is : \",polynomialExp)\n",
        "print(polynomialExp)\n",
        "x=2\n",
        "result = polynomialExp(x)\n",
        "print(result)\n",
        "print('======================================================================')\n",
        "\n",
        "# coff = numpy.array([12,3,4,5,6,7,10])\n",
        "# poly = numpy.poly"
      ],
      "metadata": {
        "colab": {
          "base_uri": "https://localhost:8080/"
        },
        "id": "XVDsZMdDxI6_",
        "outputId": "b14998cf-9e1e-488c-8664-784317938581"
      },
      "execution_count": null,
      "outputs": [
        {
          "output_type": "stream",
          "name": "stdout",
          "text": [
            "type of polynomial =  <class 'numpy.poly1d'>\n",
            "Polynomial expression is :      6     5     4     3     2\n",
            "12 x + 3 x + 4 x + 5 x + 6 x + 7 x + 10\n",
            "    6     5     4     3     2\n",
            "12 x + 3 x + 4 x + 5 x + 6 x + 7 x + 10\n",
            "1016\n",
            "======================================================================\n"
          ]
        }
      ]
    },
    {
      "cell_type": "code",
      "source": [
        "import numpy\n",
        "a=numpy.matrix(((10,20,30),(40,50,60)))\n",
        "print(\"a: \\n \",a)\n",
        "b=numpy.matrix_transpose(a)\n",
        "print(\"transpose of a: \\n\",b)"
      ],
      "metadata": {
        "colab": {
          "base_uri": "https://localhost:8080/"
        },
        "id": "TzVxQm7gxYIT",
        "outputId": "a975a162-a705-464d-941d-c5e78a6aba09"
      },
      "execution_count": null,
      "outputs": [
        {
          "output_type": "stream",
          "name": "stdout",
          "text": [
            "a: \n",
            "  [[10 20 30]\n",
            " [40 50 60]]\n",
            "transpose of a: \n",
            " [[10 40]\n",
            " [20 50]\n",
            " [30 60]]\n"
          ]
        }
      ]
    },
    {
      "cell_type": "code",
      "source": [
        "import numpy\n",
        "a= numpy.matrix(((10,20,30),(40,50,60),(70,80,90),(100,110,120)))\n",
        "b= numpy.hsplit(a,3)\n",
        "print(\"a\\n\",a)\n",
        "print(\"b\\n\",b)\n",
        "c=b[0]\n",
        "d=b[1]\n",
        "e=b[2]\n",
        "print(\"c\\n\",c)\n",
        "print(\"d\\n\",d)"
      ],
      "metadata": {
        "colab": {
          "base_uri": "https://localhost:8080/"
        },
        "id": "123aIXOo0Hys",
        "outputId": "990cf87a-c8e9-48af-cc4a-70f6d9f5cb4d"
      },
      "execution_count": null,
      "outputs": [
        {
          "output_type": "stream",
          "name": "stdout",
          "text": [
            "a\n",
            " [[ 10  20  30]\n",
            " [ 40  50  60]\n",
            " [ 70  80  90]\n",
            " [100 110 120]]\n",
            "b\n",
            " [matrix([[ 10],\n",
            "        [ 40],\n",
            "        [ 70],\n",
            "        [100]]), matrix([[ 20],\n",
            "        [ 50],\n",
            "        [ 80],\n",
            "        [110]]), matrix([[ 30],\n",
            "        [ 60],\n",
            "        [ 90],\n",
            "        [120]])]\n",
            "c\n",
            " [[ 10]\n",
            " [ 40]\n",
            " [ 70]\n",
            " [100]]\n",
            "d\n",
            " [[ 20]\n",
            " [ 50]\n",
            " [ 80]\n",
            " [110]]\n"
          ]
        }
      ]
    },
    {
      "cell_type": "markdown",
      "source": [
        "**PANDAS **\n"
      ],
      "metadata": {
        "id": "R4fmcfmODN97"
      }
    },
    {
      "cell_type": "code",
      "source": [
        "import pandas as pd\n",
        "import numpy as np\n"
      ],
      "metadata": {
        "id": "dyzFeyKrDSOn"
      },
      "execution_count": null,
      "outputs": []
    },
    {
      "cell_type": "code",
      "source": [
        "labels =[\"a\",\"b\",\"c\"]\n",
        "print(labels)\n",
        "my_data = [10, 20, 30]\n",
        "print(my_data)\n",
        "arr = np.array(my_data)\n",
        "print(arr)\n",
        "d = {'a':10, 'b':20, 'c':30}\n",
        "print(d)"
      ],
      "metadata": {
        "id": "AzHZgrfR2jVf",
        "colab": {
          "base_uri": "https://localhost:8080/"
        },
        "outputId": "69d0d42a-e811-4080-e6c8-6de30005c874"
      },
      "execution_count": null,
      "outputs": [
        {
          "output_type": "stream",
          "name": "stdout",
          "text": [
            "['a', 'b', 'c']\n",
            "[10, 20, 30]\n",
            "[10 20 30]\n",
            "{'a': 10, 'b': 20, 'c': 30}\n"
          ]
        }
      ]
    },
    {
      "cell_type": "code",
      "source": [
        "#This will explicitly define indexes\n",
        "print(type(pd.Series(data = my_data)))\n",
        "\n",
        "#define index\n",
        "pd.Series(data = my_data, index = labels)\n",
        "\n",
        "p_series = pd.Series(arr)\n",
        "print(p_series)\n",
        "\n",
        "pd.Series(arr, labels)\n"
      ],
      "metadata": {
        "colab": {
          "base_uri": "https://localhost:8080/",
          "height": 265
        },
        "id": "xj4hyfPKEG8_",
        "outputId": "19fcd968-e6ad-4703-c9a7-b12eb11dd781"
      },
      "execution_count": null,
      "outputs": [
        {
          "output_type": "stream",
          "name": "stdout",
          "text": [
            "<class 'pandas.core.series.Series'>\n",
            "0    10\n",
            "1    20\n",
            "2    30\n",
            "dtype: int64\n"
          ]
        },
        {
          "output_type": "execute_result",
          "data": {
            "text/plain": [
              "a    10\n",
              "b    20\n",
              "c    30\n",
              "dtype: int64"
            ],
            "text/html": [
              "<div>\n",
              "<style scoped>\n",
              "    .dataframe tbody tr th:only-of-type {\n",
              "        vertical-align: middle;\n",
              "    }\n",
              "\n",
              "    .dataframe tbody tr th {\n",
              "        vertical-align: top;\n",
              "    }\n",
              "\n",
              "    .dataframe thead th {\n",
              "        text-align: right;\n",
              "    }\n",
              "</style>\n",
              "<table border=\"1\" class=\"dataframe\">\n",
              "  <thead>\n",
              "    <tr style=\"text-align: right;\">\n",
              "      <th></th>\n",
              "      <th>0</th>\n",
              "    </tr>\n",
              "  </thead>\n",
              "  <tbody>\n",
              "    <tr>\n",
              "      <th>a</th>\n",
              "      <td>10</td>\n",
              "    </tr>\n",
              "    <tr>\n",
              "      <th>b</th>\n",
              "      <td>20</td>\n",
              "    </tr>\n",
              "    <tr>\n",
              "      <th>c</th>\n",
              "      <td>30</td>\n",
              "    </tr>\n",
              "  </tbody>\n",
              "</table>\n",
              "</div><br><label><b>dtype:</b> int64</label>"
            ]
          },
          "metadata": {},
          "execution_count": 56
        }
      ]
    },
    {
      "cell_type": "code",
      "source": [
        "#Using Dictonary\n",
        "pd.Series(d)\n",
        "print(d)\n"
      ],
      "metadata": {
        "colab": {
          "base_uri": "https://localhost:8080/"
        },
        "id": "Y_rS0JUIEVZT",
        "outputId": "1698fc8d-654c-4afa-aaf8-dadc114cd018"
      },
      "execution_count": null,
      "outputs": [
        {
          "output_type": "stream",
          "name": "stdout",
          "text": [
            "{'a': 10, 'b': 20, 'c': 30}\n"
          ]
        }
      ]
    },
    {
      "cell_type": "code",
      "source": [
        "#Series can hold any kind of data object with Python like string, integer\n",
        "print(pd.Series(labels))\n",
        "print(pd.Series(data = labels))"
      ],
      "metadata": {
        "colab": {
          "base_uri": "https://localhost:8080/"
        },
        "id": "bXjVpnucEig-",
        "outputId": "b08cc300-f91b-4cdf-9bb7-2629a939c20e"
      },
      "execution_count": null,
      "outputs": [
        {
          "output_type": "stream",
          "name": "stdout",
          "text": [
            "0    a\n",
            "1    b\n",
            "2    c\n",
            "dtype: object\n",
            "0    a\n",
            "1    b\n",
            "2    c\n",
            "dtype: object\n"
          ]
        }
      ]
    },
    {
      "cell_type": "code",
      "source": [
        "pd.Series([sum, print, len])"
      ],
      "metadata": {
        "colab": {
          "base_uri": "https://localhost:8080/",
          "height": 178
        },
        "id": "LAZZedPwEnhe",
        "outputId": "8aee5eac-0665-4637-a214-79a636ddd69c"
      },
      "execution_count": null,
      "outputs": [
        {
          "output_type": "execute_result",
          "data": {
            "text/plain": [
              "0      <built-in function sum>\n",
              "1    <built-in function print>\n",
              "2      <built-in function len>\n",
              "dtype: object"
            ],
            "text/html": [
              "<div>\n",
              "<style scoped>\n",
              "    .dataframe tbody tr th:only-of-type {\n",
              "        vertical-align: middle;\n",
              "    }\n",
              "\n",
              "    .dataframe tbody tr th {\n",
              "        vertical-align: top;\n",
              "    }\n",
              "\n",
              "    .dataframe thead th {\n",
              "        text-align: right;\n",
              "    }\n",
              "</style>\n",
              "<table border=\"1\" class=\"dataframe\">\n",
              "  <thead>\n",
              "    <tr style=\"text-align: right;\">\n",
              "      <th></th>\n",
              "      <th>0</th>\n",
              "    </tr>\n",
              "  </thead>\n",
              "  <tbody>\n",
              "    <tr>\n",
              "      <th>0</th>\n",
              "      <td>&lt;built-in function sum&gt;</td>\n",
              "    </tr>\n",
              "    <tr>\n",
              "      <th>1</th>\n",
              "      <td>&lt;built-in function print&gt;</td>\n",
              "    </tr>\n",
              "    <tr>\n",
              "      <th>2</th>\n",
              "      <td>&lt;built-in function len&gt;</td>\n",
              "    </tr>\n",
              "  </tbody>\n",
              "</table>\n",
              "</div><br><label><b>dtype:</b> object</label>"
            ]
          },
          "metadata": {},
          "execution_count": 59
        }
      ]
    },
    {
      "cell_type": "code",
      "source": [
        "s1 = pd.Series([1, 2, 3, 4], ['A', 'B', 'C', 'D'])\n",
        "print(s1)\n",
        "s2 = pd.Series([1, 2, 5, 4], ['A', 'B', 'BB', 'D'])\n",
        "print(s2)\n",
        "print(s1['A'])"
      ],
      "metadata": {
        "colab": {
          "base_uri": "https://localhost:8080/"
        },
        "id": "bgLf1gC_E1Ev",
        "outputId": "c5ac6e86-8dc2-418f-88a9-97130e20ca98"
      },
      "execution_count": null,
      "outputs": [
        {
          "output_type": "stream",
          "name": "stdout",
          "text": [
            "A    1\n",
            "B    2\n",
            "C    3\n",
            "D    4\n",
            "dtype: int64\n",
            "A     1\n",
            "B     2\n",
            "BB    5\n",
            "D     4\n",
            "dtype: int64\n",
            "1\n"
          ]
        }
      ]
    },
    {
      "cell_type": "code",
      "source": [
        "\"\"\"     All operations in Series are based on Index\n",
        "        In order to retrain all possible information\n",
        "        Pandas will convert int values to float           \"\"\"\n",
        "print(s1+s2)"
      ],
      "metadata": {
        "colab": {
          "base_uri": "https://localhost:8080/"
        },
        "id": "FUvub9UqE83s",
        "outputId": "5f47b59b-20c3-4f3e-d4ee-828934052939"
      },
      "execution_count": null,
      "outputs": [
        {
          "output_type": "stream",
          "name": "stdout",
          "text": [
            "A     2.0\n",
            "B     4.0\n",
            "BB    NaN\n",
            "C     NaN\n",
            "D     8.0\n",
            "dtype: float64\n"
          ]
        }
      ]
    },
    {
      "cell_type": "code",
      "source": [
        "#Data Frame\n",
        "import numpy as np\n",
        "import pandas as pd\n",
        "from numpy.random import randn\n",
        "np.random.seed(101)"
      ],
      "metadata": {
        "id": "fWemes9eFHpC"
      },
      "execution_count": null,
      "outputs": []
    },
    {
      "cell_type": "code",
      "source": [
        "df = pd.DataFrame(randn(5, 4), ['A', 'B', 'C', 'D', 'E'], ['K', 'L', 'M', 'N'])\n",
        "print(df)"
      ],
      "metadata": {
        "colab": {
          "base_uri": "https://localhost:8080/"
        },
        "id": "CDnPCYVvFYHh",
        "outputId": "d6ff3bb9-2d4e-4e22-8240-f0b86db5e144"
      },
      "execution_count": null,
      "outputs": [
        {
          "output_type": "stream",
          "name": "stdout",
          "text": [
            "          K         L         M         N\n",
            "A  2.706850  0.628133  0.907969  0.503826\n",
            "B  0.651118 -0.319318 -0.848077  0.605965\n",
            "C -2.018168  0.740122  0.528813 -0.589001\n",
            "D  0.188695 -0.758872 -0.933237  0.955057\n",
            "E  0.190794  1.978757  2.605967  0.683509\n"
          ]
        }
      ]
    },
    {
      "cell_type": "code",
      "source": [
        "print(df[\"K\"])\n",
        "print(type(df['K']))"
      ],
      "metadata": {
        "colab": {
          "base_uri": "https://localhost:8080/"
        },
        "id": "azHhjafoFZPY",
        "outputId": "372c4b94-fd29-42ce-a4db-82fd6b84f218"
      },
      "execution_count": null,
      "outputs": [
        {
          "output_type": "stream",
          "name": "stdout",
          "text": [
            "A    2.706850\n",
            "B    0.651118\n",
            "C   -2.018168\n",
            "D    0.188695\n",
            "E    0.190794\n",
            "Name: K, dtype: float64\n",
            "<class 'pandas.core.series.Series'>\n"
          ]
        }
      ]
    },
    {
      "cell_type": "code",
      "source": [
        "#Single column will return Series Object, multiple columns will return dataframe.\n",
        "print(df[['K']])\n",
        "print(type(df[['K']]))\n",
        "print(df['L'])\n",
        "print(type(df['L']))\n",
        "print(df[['K', 'M']])\n",
        "print(type(df[['K', 'M']]))\n",
        "df[\"G\"] = df['K'] + df['L']\n",
        "print(df)"
      ],
      "metadata": {
        "colab": {
          "base_uri": "https://localhost:8080/"
        },
        "id": "sMl0ImeRFhmC",
        "outputId": "96dca1a2-2cc2-4919-fd4b-881c375bd08e"
      },
      "execution_count": null,
      "outputs": [
        {
          "output_type": "stream",
          "name": "stdout",
          "text": [
            "          K\n",
            "A  2.706850\n",
            "B  0.651118\n",
            "C -2.018168\n",
            "D  0.188695\n",
            "E  0.190794\n",
            "<class 'pandas.core.frame.DataFrame'>\n",
            "A    0.628133\n",
            "B   -0.319318\n",
            "C    0.740122\n",
            "D   -0.758872\n",
            "E    1.978757\n",
            "Name: L, dtype: float64\n",
            "<class 'pandas.core.series.Series'>\n",
            "          K         M\n",
            "A  2.706850  0.907969\n",
            "B  0.651118 -0.848077\n",
            "C -2.018168  0.528813\n",
            "D  0.188695 -0.933237\n",
            "E  0.190794  2.605967\n",
            "<class 'pandas.core.frame.DataFrame'>\n",
            "          K         L         M         N         G\n",
            "A  2.706850  0.628133  0.907969  0.503826  3.334983\n",
            "B  0.651118 -0.319318 -0.848077  0.605965  0.331800\n",
            "C -2.018168  0.740122  0.528813 -0.589001 -1.278046\n",
            "D  0.188695 -0.758872 -0.933237  0.955057 -0.570177\n",
            "E  0.190794  1.978757  2.605967  0.683509  2.169552\n"
          ]
        }
      ]
    },
    {
      "cell_type": "code",
      "source": [
        "df = df.drop('G', axis = 1)\n",
        "print(df)"
      ],
      "metadata": {
        "colab": {
          "base_uri": "https://localhost:8080/"
        },
        "id": "vbtsDVAKFh2H",
        "outputId": "a892172f-fb9d-4b8a-dc78-264b94b5c2ba"
      },
      "execution_count": null,
      "outputs": [
        {
          "output_type": "stream",
          "name": "stdout",
          "text": [
            "          K         L         M         N\n",
            "A  2.706850  0.628133  0.907969  0.503826\n",
            "B  0.651118 -0.319318 -0.848077  0.605965\n",
            "C -2.018168  0.740122  0.528813 -0.589001\n",
            "D  0.188695 -0.758872 -0.933237  0.955057\n",
            "E  0.190794  1.978757  2.605967  0.683509\n"
          ]
        }
      ]
    },
    {
      "cell_type": "code",
      "source": [
        "#axis = 1 refer to columns\n",
        "#axis = 0 refer to rows\n",
        "\n",
        "#df = df.drop('E', axis = 0)\n",
        "#print(df)\n",
        "\n",
        "df.drop('K', axis = 1, inplace = True)\n",
        "df\n",
        "\n",
        "#inplace = False, Which is the default, then the operation is performed and it returns a copy of the object"
      ],
      "metadata": {
        "colab": {
          "base_uri": "https://localhost:8080/",
          "height": 206
        },
        "id": "Ts3FxNbAFh9m",
        "outputId": "2e4518bb-ae42-4365-e91b-baa7208a81b5"
      },
      "execution_count": null,
      "outputs": [
        {
          "output_type": "execute_result",
          "data": {
            "text/plain": [
              "          L         M         N\n",
              "A  0.628133  0.907969  0.503826\n",
              "B -0.319318 -0.848077  0.605965\n",
              "C  0.740122  0.528813 -0.589001\n",
              "D -0.758872 -0.933237  0.955057\n",
              "E  1.978757  2.605967  0.683509"
            ],
            "text/html": [
              "\n",
              "  <div id=\"df-9c274649-8051-4eec-812b-366717044a0a\" class=\"colab-df-container\">\n",
              "    <div>\n",
              "<style scoped>\n",
              "    .dataframe tbody tr th:only-of-type {\n",
              "        vertical-align: middle;\n",
              "    }\n",
              "\n",
              "    .dataframe tbody tr th {\n",
              "        vertical-align: top;\n",
              "    }\n",
              "\n",
              "    .dataframe thead th {\n",
              "        text-align: right;\n",
              "    }\n",
              "</style>\n",
              "<table border=\"1\" class=\"dataframe\">\n",
              "  <thead>\n",
              "    <tr style=\"text-align: right;\">\n",
              "      <th></th>\n",
              "      <th>L</th>\n",
              "      <th>M</th>\n",
              "      <th>N</th>\n",
              "    </tr>\n",
              "  </thead>\n",
              "  <tbody>\n",
              "    <tr>\n",
              "      <th>A</th>\n",
              "      <td>0.628133</td>\n",
              "      <td>0.907969</td>\n",
              "      <td>0.503826</td>\n",
              "    </tr>\n",
              "    <tr>\n",
              "      <th>B</th>\n",
              "      <td>-0.319318</td>\n",
              "      <td>-0.848077</td>\n",
              "      <td>0.605965</td>\n",
              "    </tr>\n",
              "    <tr>\n",
              "      <th>C</th>\n",
              "      <td>0.740122</td>\n",
              "      <td>0.528813</td>\n",
              "      <td>-0.589001</td>\n",
              "    </tr>\n",
              "    <tr>\n",
              "      <th>D</th>\n",
              "      <td>-0.758872</td>\n",
              "      <td>-0.933237</td>\n",
              "      <td>0.955057</td>\n",
              "    </tr>\n",
              "    <tr>\n",
              "      <th>E</th>\n",
              "      <td>1.978757</td>\n",
              "      <td>2.605967</td>\n",
              "      <td>0.683509</td>\n",
              "    </tr>\n",
              "  </tbody>\n",
              "</table>\n",
              "</div>\n",
              "    <div class=\"colab-df-buttons\">\n",
              "\n",
              "  <div class=\"colab-df-container\">\n",
              "    <button class=\"colab-df-convert\" onclick=\"convertToInteractive('df-9c274649-8051-4eec-812b-366717044a0a')\"\n",
              "            title=\"Convert this dataframe to an interactive table.\"\n",
              "            style=\"display:none;\">\n",
              "\n",
              "  <svg xmlns=\"http://www.w3.org/2000/svg\" height=\"24px\" viewBox=\"0 -960 960 960\">\n",
              "    <path d=\"M120-120v-720h720v720H120Zm60-500h600v-160H180v160Zm220 220h160v-160H400v160Zm0 220h160v-160H400v160ZM180-400h160v-160H180v160Zm440 0h160v-160H620v160ZM180-180h160v-160H180v160Zm440 0h160v-160H620v160Z\"/>\n",
              "  </svg>\n",
              "    </button>\n",
              "\n",
              "  <style>\n",
              "    .colab-df-container {\n",
              "      display:flex;\n",
              "      gap: 12px;\n",
              "    }\n",
              "\n",
              "    .colab-df-convert {\n",
              "      background-color: #E8F0FE;\n",
              "      border: none;\n",
              "      border-radius: 50%;\n",
              "      cursor: pointer;\n",
              "      display: none;\n",
              "      fill: #1967D2;\n",
              "      height: 32px;\n",
              "      padding: 0 0 0 0;\n",
              "      width: 32px;\n",
              "    }\n",
              "\n",
              "    .colab-df-convert:hover {\n",
              "      background-color: #E2EBFA;\n",
              "      box-shadow: 0px 1px 2px rgba(60, 64, 67, 0.3), 0px 1px 3px 1px rgba(60, 64, 67, 0.15);\n",
              "      fill: #174EA6;\n",
              "    }\n",
              "\n",
              "    .colab-df-buttons div {\n",
              "      margin-bottom: 4px;\n",
              "    }\n",
              "\n",
              "    [theme=dark] .colab-df-convert {\n",
              "      background-color: #3B4455;\n",
              "      fill: #D2E3FC;\n",
              "    }\n",
              "\n",
              "    [theme=dark] .colab-df-convert:hover {\n",
              "      background-color: #434B5C;\n",
              "      box-shadow: 0px 1px 3px 1px rgba(0, 0, 0, 0.15);\n",
              "      filter: drop-shadow(0px 1px 2px rgba(0, 0, 0, 0.3));\n",
              "      fill: #FFFFFF;\n",
              "    }\n",
              "  </style>\n",
              "\n",
              "    <script>\n",
              "      const buttonEl =\n",
              "        document.querySelector('#df-9c274649-8051-4eec-812b-366717044a0a button.colab-df-convert');\n",
              "      buttonEl.style.display =\n",
              "        google.colab.kernel.accessAllowed ? 'block' : 'none';\n",
              "\n",
              "      async function convertToInteractive(key) {\n",
              "        const element = document.querySelector('#df-9c274649-8051-4eec-812b-366717044a0a');\n",
              "        const dataTable =\n",
              "          await google.colab.kernel.invokeFunction('convertToInteractive',\n",
              "                                                    [key], {});\n",
              "        if (!dataTable) return;\n",
              "\n",
              "        const docLinkHtml = 'Like what you see? Visit the ' +\n",
              "          '<a target=\"_blank\" href=https://colab.research.google.com/notebooks/data_table.ipynb>data table notebook</a>'\n",
              "          + ' to learn more about interactive tables.';\n",
              "        element.innerHTML = '';\n",
              "        dataTable['output_type'] = 'display_data';\n",
              "        await google.colab.output.renderOutput(dataTable, element);\n",
              "        const docLink = document.createElement('div');\n",
              "        docLink.innerHTML = docLinkHtml;\n",
              "        element.appendChild(docLink);\n",
              "      }\n",
              "    </script>\n",
              "  </div>\n",
              "\n",
              "\n",
              "    <div id=\"df-c9667d4a-6320-4a4b-b9cd-a25fc0af4302\">\n",
              "      <button class=\"colab-df-quickchart\" onclick=\"quickchart('df-c9667d4a-6320-4a4b-b9cd-a25fc0af4302')\"\n",
              "                title=\"Suggest charts\"\n",
              "                style=\"display:none;\">\n",
              "\n",
              "<svg xmlns=\"http://www.w3.org/2000/svg\" height=\"24px\"viewBox=\"0 0 24 24\"\n",
              "     width=\"24px\">\n",
              "    <g>\n",
              "        <path d=\"M19 3H5c-1.1 0-2 .9-2 2v14c0 1.1.9 2 2 2h14c1.1 0 2-.9 2-2V5c0-1.1-.9-2-2-2zM9 17H7v-7h2v7zm4 0h-2V7h2v10zm4 0h-2v-4h2v4z\"/>\n",
              "    </g>\n",
              "</svg>\n",
              "      </button>\n",
              "\n",
              "<style>\n",
              "  .colab-df-quickchart {\n",
              "      --bg-color: #E8F0FE;\n",
              "      --fill-color: #1967D2;\n",
              "      --hover-bg-color: #E2EBFA;\n",
              "      --hover-fill-color: #174EA6;\n",
              "      --disabled-fill-color: #AAA;\n",
              "      --disabled-bg-color: #DDD;\n",
              "  }\n",
              "\n",
              "  [theme=dark] .colab-df-quickchart {\n",
              "      --bg-color: #3B4455;\n",
              "      --fill-color: #D2E3FC;\n",
              "      --hover-bg-color: #434B5C;\n",
              "      --hover-fill-color: #FFFFFF;\n",
              "      --disabled-bg-color: #3B4455;\n",
              "      --disabled-fill-color: #666;\n",
              "  }\n",
              "\n",
              "  .colab-df-quickchart {\n",
              "    background-color: var(--bg-color);\n",
              "    border: none;\n",
              "    border-radius: 50%;\n",
              "    cursor: pointer;\n",
              "    display: none;\n",
              "    fill: var(--fill-color);\n",
              "    height: 32px;\n",
              "    padding: 0;\n",
              "    width: 32px;\n",
              "  }\n",
              "\n",
              "  .colab-df-quickchart:hover {\n",
              "    background-color: var(--hover-bg-color);\n",
              "    box-shadow: 0 1px 2px rgba(60, 64, 67, 0.3), 0 1px 3px 1px rgba(60, 64, 67, 0.15);\n",
              "    fill: var(--button-hover-fill-color);\n",
              "  }\n",
              "\n",
              "  .colab-df-quickchart-complete:disabled,\n",
              "  .colab-df-quickchart-complete:disabled:hover {\n",
              "    background-color: var(--disabled-bg-color);\n",
              "    fill: var(--disabled-fill-color);\n",
              "    box-shadow: none;\n",
              "  }\n",
              "\n",
              "  .colab-df-spinner {\n",
              "    border: 2px solid var(--fill-color);\n",
              "    border-color: transparent;\n",
              "    border-bottom-color: var(--fill-color);\n",
              "    animation:\n",
              "      spin 1s steps(1) infinite;\n",
              "  }\n",
              "\n",
              "  @keyframes spin {\n",
              "    0% {\n",
              "      border-color: transparent;\n",
              "      border-bottom-color: var(--fill-color);\n",
              "      border-left-color: var(--fill-color);\n",
              "    }\n",
              "    20% {\n",
              "      border-color: transparent;\n",
              "      border-left-color: var(--fill-color);\n",
              "      border-top-color: var(--fill-color);\n",
              "    }\n",
              "    30% {\n",
              "      border-color: transparent;\n",
              "      border-left-color: var(--fill-color);\n",
              "      border-top-color: var(--fill-color);\n",
              "      border-right-color: var(--fill-color);\n",
              "    }\n",
              "    40% {\n",
              "      border-color: transparent;\n",
              "      border-right-color: var(--fill-color);\n",
              "      border-top-color: var(--fill-color);\n",
              "    }\n",
              "    60% {\n",
              "      border-color: transparent;\n",
              "      border-right-color: var(--fill-color);\n",
              "    }\n",
              "    80% {\n",
              "      border-color: transparent;\n",
              "      border-right-color: var(--fill-color);\n",
              "      border-bottom-color: var(--fill-color);\n",
              "    }\n",
              "    90% {\n",
              "      border-color: transparent;\n",
              "      border-bottom-color: var(--fill-color);\n",
              "    }\n",
              "  }\n",
              "</style>\n",
              "\n",
              "      <script>\n",
              "        async function quickchart(key) {\n",
              "          const quickchartButtonEl =\n",
              "            document.querySelector('#' + key + ' button');\n",
              "          quickchartButtonEl.disabled = true;  // To prevent multiple clicks.\n",
              "          quickchartButtonEl.classList.add('colab-df-spinner');\n",
              "          try {\n",
              "            const charts = await google.colab.kernel.invokeFunction(\n",
              "                'suggestCharts', [key], {});\n",
              "          } catch (error) {\n",
              "            console.error('Error during call to suggestCharts:', error);\n",
              "          }\n",
              "          quickchartButtonEl.classList.remove('colab-df-spinner');\n",
              "          quickchartButtonEl.classList.add('colab-df-quickchart-complete');\n",
              "        }\n",
              "        (() => {\n",
              "          let quickchartButtonEl =\n",
              "            document.querySelector('#df-c9667d4a-6320-4a4b-b9cd-a25fc0af4302 button');\n",
              "          quickchartButtonEl.style.display =\n",
              "            google.colab.kernel.accessAllowed ? 'block' : 'none';\n",
              "        })();\n",
              "      </script>\n",
              "    </div>\n",
              "\n",
              "  <div id=\"id_7c958433-2893-47f1-8c37-d7776bbd859e\">\n",
              "    <style>\n",
              "      .colab-df-generate {\n",
              "        background-color: #E8F0FE;\n",
              "        border: none;\n",
              "        border-radius: 50%;\n",
              "        cursor: pointer;\n",
              "        display: none;\n",
              "        fill: #1967D2;\n",
              "        height: 32px;\n",
              "        padding: 0 0 0 0;\n",
              "        width: 32px;\n",
              "      }\n",
              "\n",
              "      .colab-df-generate:hover {\n",
              "        background-color: #E2EBFA;\n",
              "        box-shadow: 0px 1px 2px rgba(60, 64, 67, 0.3), 0px 1px 3px 1px rgba(60, 64, 67, 0.15);\n",
              "        fill: #174EA6;\n",
              "      }\n",
              "\n",
              "      [theme=dark] .colab-df-generate {\n",
              "        background-color: #3B4455;\n",
              "        fill: #D2E3FC;\n",
              "      }\n",
              "\n",
              "      [theme=dark] .colab-df-generate:hover {\n",
              "        background-color: #434B5C;\n",
              "        box-shadow: 0px 1px 3px 1px rgba(0, 0, 0, 0.15);\n",
              "        filter: drop-shadow(0px 1px 2px rgba(0, 0, 0, 0.3));\n",
              "        fill: #FFFFFF;\n",
              "      }\n",
              "    </style>\n",
              "    <button class=\"colab-df-generate\" onclick=\"generateWithVariable('df')\"\n",
              "            title=\"Generate code using this dataframe.\"\n",
              "            style=\"display:none;\">\n",
              "\n",
              "  <svg xmlns=\"http://www.w3.org/2000/svg\" height=\"24px\"viewBox=\"0 0 24 24\"\n",
              "       width=\"24px\">\n",
              "    <path d=\"M7,19H8.4L18.45,9,17,7.55,7,17.6ZM5,21V16.75L18.45,3.32a2,2,0,0,1,2.83,0l1.4,1.43a1.91,1.91,0,0,1,.58,1.4,1.91,1.91,0,0,1-.58,1.4L9.25,21ZM18.45,9,17,7.55Zm-12,3A5.31,5.31,0,0,0,4.9,8.1,5.31,5.31,0,0,0,1,6.5,5.31,5.31,0,0,0,4.9,4.9,5.31,5.31,0,0,0,6.5,1,5.31,5.31,0,0,0,8.1,4.9,5.31,5.31,0,0,0,12,6.5,5.46,5.46,0,0,0,6.5,12Z\"/>\n",
              "  </svg>\n",
              "    </button>\n",
              "    <script>\n",
              "      (() => {\n",
              "      const buttonEl =\n",
              "        document.querySelector('#id_7c958433-2893-47f1-8c37-d7776bbd859e button.colab-df-generate');\n",
              "      buttonEl.style.display =\n",
              "        google.colab.kernel.accessAllowed ? 'block' : 'none';\n",
              "\n",
              "      buttonEl.onclick = () => {\n",
              "        google.colab.notebook.generateWithVariable('df');\n",
              "      }\n",
              "      })();\n",
              "    </script>\n",
              "  </div>\n",
              "\n",
              "    </div>\n",
              "  </div>\n"
            ],
            "application/vnd.google.colaboratory.intrinsic+json": {
              "type": "dataframe",
              "variable_name": "df",
              "summary": "{\n  \"name\": \"df\",\n  \"rows\": 5,\n  \"fields\": [\n    {\n      \"column\": \"L\",\n      \"properties\": {\n        \"dtype\": \"number\",\n        \"std\": 1.061384953083214,\n        \"min\": -0.758872056210466,\n        \"max\": 1.9787573241128278,\n        \"num_unique_values\": 5,\n        \"samples\": [\n          -0.31931804459303326,\n          1.9787573241128278,\n          0.7401220570561068\n        ],\n        \"semantic_type\": \"\",\n        \"description\": \"\"\n      }\n    },\n    {\n      \"column\": \"M\",\n      \"properties\": {\n        \"dtype\": \"number\",\n        \"std\": 1.4545158461817913,\n        \"min\": -0.9332372163009188,\n        \"max\": 2.60596727979128,\n        \"num_unique_values\": 5,\n        \"samples\": [\n          -0.8480769834036315,\n          2.60596727979128,\n          0.5288134940893595\n        ],\n        \"semantic_type\": \"\",\n        \"description\": \"\"\n      }\n    },\n    {\n      \"column\": \"N\",\n      \"properties\": {\n        \"dtype\": \"number\",\n        \"std\": 0.5947078524663323,\n        \"min\": -0.5890005332865824,\n        \"max\": 0.9550565092637361,\n        \"num_unique_values\": 5,\n        \"samples\": [\n          0.6059653494949336,\n          0.6835088855389145,\n          -0.5890005332865824\n        ],\n        \"semantic_type\": \"\",\n        \"description\": \"\"\n      }\n    }\n  ]\n}"
            }
          },
          "metadata": {},
          "execution_count": 67
        }
      ]
    },
    {
      "cell_type": "code",
      "source": [
        "df = pd.DataFrame(randn(5, 4), ['A', 'B', 'C', 'D', 'E'], ['K', 'L', 'M', 'N'])\n",
        "print(df)\n"
      ],
      "metadata": {
        "colab": {
          "base_uri": "https://localhost:8080/"
        },
        "id": "yW_4kKwdFiD9",
        "outputId": "633dc3ca-23e3-4257-edab-938623650da7"
      },
      "execution_count": null,
      "outputs": [
        {
          "output_type": "stream",
          "name": "stdout",
          "text": [
            "          K         L         M         N\n",
            "A  0.302665  1.693723 -1.706086 -1.159119\n",
            "B -0.134841  0.390528  0.166905  0.184502\n",
            "C  0.807706  0.072960  0.638787  0.329646\n",
            "D -0.497104 -0.754070 -0.943406  0.484752\n",
            "E -0.116773  1.901755  0.238127  1.996652\n"
          ]
        }
      ]
    },
    {
      "cell_type": "code",
      "source": [
        "print(df<1)"
      ],
      "metadata": {
        "colab": {
          "base_uri": "https://localhost:8080/"
        },
        "id": "87AxnTxaFzBj",
        "outputId": "7e88e6cd-4d8b-4e4b-ccdb-bbcc93b94670"
      },
      "execution_count": null,
      "outputs": [
        {
          "output_type": "stream",
          "name": "stdout",
          "text": [
            "      K      L     M      N\n",
            "A  True  False  True   True\n",
            "B  True   True  True   True\n",
            "C  True   True  True   True\n",
            "D  True   True  True   True\n",
            "E  True  False  True  False\n"
          ]
        }
      ]
    },
    {
      "cell_type": "code",
      "source": [
        "#Assign and create new dataframe\n",
        "#Condition applied on entrire datafrrame\n",
        "boolean_df = df < 1\n",
        "print(boolean_df) # this is new boolean dataframe\n",
        "print(df[boolean_df]) # this is new dataframe\n",
        "print(\"*\"*50)\n",
        "print(\"We can combine above two instructions in one step\")\n",
        "print(df[df<1])\n"
      ],
      "metadata": {
        "colab": {
          "base_uri": "https://localhost:8080/"
        },
        "id": "5p8J1OljF2q6",
        "outputId": "f82a168f-605b-411c-b29f-97beecfb7409"
      },
      "execution_count": null,
      "outputs": [
        {
          "output_type": "stream",
          "name": "stdout",
          "text": [
            "      K      L     M      N\n",
            "A  True  False  True   True\n",
            "B  True   True  True   True\n",
            "C  True   True  True   True\n",
            "D  True   True  True   True\n",
            "E  True  False  True  False\n",
            "          K         L         M         N\n",
            "A  0.302665       NaN -1.706086 -1.159119\n",
            "B -0.134841  0.390528  0.166905  0.184502\n",
            "C  0.807706  0.072960  0.638787  0.329646\n",
            "D -0.497104 -0.754070 -0.943406  0.484752\n",
            "E -0.116773       NaN  0.238127       NaN\n",
            "**************************************************\n",
            "We can combine above two instructions in one step\n",
            "          K         L         M         N\n",
            "A  0.302665       NaN -1.706086 -1.159119\n",
            "B -0.134841  0.390528  0.166905  0.184502\n",
            "C  0.807706  0.072960  0.638787  0.329646\n",
            "D -0.497104 -0.754070 -0.943406  0.484752\n",
            "E -0.116773       NaN  0.238127       NaN\n"
          ]
        }
      ]
    },
    {
      "cell_type": "code",
      "source": [
        "from numpy.random import randn\n",
        "df=pd.DataFrame(randn(5,4),['A','B','C','D','E'],['K','L','M','N'])\n",
        "print(df)\n",
        "print(df<1)\n",
        "\n",
        "#Assign and create new dataframe\n",
        "#Condition applied on the entrire\n",
        "\n",
        "boolean_df = df < 1\n",
        "print(boolean_df) # this is new boolean dataframe\n",
        "print(df[boolean_df]) # this is new dataframe\n",
        "print(\"*\"*50)\n",
        "print(\"We can combine above two instructions in one step\")\n",
        "print(df[df<1])\n"
      ],
      "metadata": {
        "colab": {
          "base_uri": "https://localhost:8080/"
        },
        "id": "vrdTDlbBG3h2",
        "outputId": "3fb0ce9e-1a9f-4420-8bdc-5d9903f0bff0"
      },
      "execution_count": null,
      "outputs": [
        {
          "output_type": "stream",
          "name": "stdout",
          "text": [
            "          K         L         M         N\n",
            "A -0.993263  0.196800 -1.136645  0.000366\n",
            "B  1.025984 -0.156598 -0.031579  0.649826\n",
            "C  2.154846 -0.610259 -0.755325 -0.346419\n",
            "D  0.147027 -0.479448  0.558769  1.024810\n",
            "E -0.925874  1.862864 -1.133817  0.610478\n",
            "       K      L     M      N\n",
            "A   True   True  True   True\n",
            "B  False   True  True   True\n",
            "C  False   True  True   True\n",
            "D   True   True  True  False\n",
            "E   True  False  True   True\n",
            "       K      L     M      N\n",
            "A   True   True  True   True\n",
            "B  False   True  True   True\n",
            "C  False   True  True   True\n",
            "D   True   True  True  False\n",
            "E   True  False  True   True\n",
            "          K         L         M         N\n",
            "A -0.993263  0.196800 -1.136645  0.000366\n",
            "B       NaN -0.156598 -0.031579  0.649826\n",
            "C       NaN -0.610259 -0.755325 -0.346419\n",
            "D  0.147027 -0.479448  0.558769       NaN\n",
            "E -0.925874       NaN -1.133817  0.610478\n",
            "**************************************************\n",
            "We can combine above two instructions in one step\n",
            "          K         L         M         N\n",
            "A -0.993263  0.196800 -1.136645  0.000366\n",
            "B       NaN -0.156598 -0.031579  0.649826\n",
            "C       NaN -0.610259 -0.755325 -0.346419\n",
            "D  0.147027 -0.479448  0.558769       NaN\n",
            "E -0.925874       NaN -1.133817  0.610478\n"
          ]
        }
      ]
    },
    {
      "cell_type": "code",
      "source": [
        "#Apply on columns\n",
        "print(df['K'])\n",
        "print(df['K']>0)\n",
        "print(df[df['K']>0])#unlike the previous one,\n",
        "#it will return rows where df['k']>0 id True"
      ],
      "metadata": {
        "colab": {
          "base_uri": "https://localhost:8080/"
        },
        "id": "tU-kcu7EHwh_",
        "outputId": "c058d06e-5dcd-4327-b007-d157f2179ad2"
      },
      "execution_count": null,
      "outputs": [
        {
          "output_type": "stream",
          "name": "stdout",
          "text": [
            "A   -0.993263\n",
            "B    1.025984\n",
            "C    2.154846\n",
            "D    0.147027\n",
            "E   -0.925874\n",
            "Name: K, dtype: float64\n",
            "A    False\n",
            "B     True\n",
            "C     True\n",
            "D     True\n",
            "E    False\n",
            "Name: K, dtype: bool\n",
            "          K         L         M         N\n",
            "B  1.025984 -0.156598 -0.031579  0.649826\n",
            "C  2.154846 -0.610259 -0.755325 -0.346419\n",
            "D  0.147027 -0.479448  0.558769  1.024810\n"
          ]
        }
      ]
    },
    {
      "cell_type": "code",
      "source": [
        "#Return rows where column value k\n",
        "#happens to be less than 0 and returns values of column M\n",
        "\n",
        "print(df[df['K']>0]['M'])\n",
        "print(df[df['K']>0][['M','N']])"
      ],
      "metadata": {
        "colab": {
          "base_uri": "https://localhost:8080/"
        },
        "id": "LE9kZ_c0ISPu",
        "outputId": "5f7ee521-020d-4a1d-96f7-fce4cc5dbbdd"
      },
      "execution_count": null,
      "outputs": [
        {
          "output_type": "stream",
          "name": "stdout",
          "text": [
            "B   -0.031579\n",
            "C   -0.755325\n",
            "D    0.558769\n",
            "Name: M, dtype: float64\n",
            "          M         N\n",
            "B -0.031579  0.649826\n",
            "C -0.755325 -0.346419\n",
            "D  0.558769  1.024810\n"
          ]
        }
      ]
    },
    {
      "cell_type": "code",
      "source": [
        "# Multiple Condition\n",
        "#df[(df['K']>0)] and (df[\"M\"]>0) # ambiguous and operation\n",
        "# element -wise logical operators will do the needful\n",
        "#TRUE AND TRUE\n",
        "# TRUE AND FALSE\n",
        "df[\"K\"]>0\n",
        "df[(df[\"K\"]>0) & (df[\"M\"]>0)]\n",
        "\n",
        "#for OR use\n",
        "\n",
        "df\n",
        "print(df.reset_index()) #inplace param is false\n",
        "                        #by default here\n",
        "df"
      ],
      "metadata": {
        "colab": {
          "base_uri": "https://localhost:8080/",
          "height": 310
        },
        "id": "3h6CybBNJ3NB",
        "outputId": "b77f6f20-cfbc-47a3-ad36-ddf6adb58fb3"
      },
      "execution_count": null,
      "outputs": [
        {
          "output_type": "stream",
          "name": "stdout",
          "text": [
            "  index         K         L         M         N\n",
            "0     A -0.993263  0.196800 -1.136645  0.000366\n",
            "1     B  1.025984 -0.156598 -0.031579  0.649826\n",
            "2     C  2.154846 -0.610259 -0.755325 -0.346419\n",
            "3     D  0.147027 -0.479448  0.558769  1.024810\n",
            "4     E -0.925874  1.862864 -1.133817  0.610478\n"
          ]
        },
        {
          "output_type": "execute_result",
          "data": {
            "text/plain": [
              "          K         L         M         N\n",
              "A -0.993263  0.196800 -1.136645  0.000366\n",
              "B  1.025984 -0.156598 -0.031579  0.649826\n",
              "C  2.154846 -0.610259 -0.755325 -0.346419\n",
              "D  0.147027 -0.479448  0.558769  1.024810\n",
              "E -0.925874  1.862864 -1.133817  0.610478"
            ],
            "text/html": [
              "\n",
              "  <div id=\"df-2784a809-c603-4b5f-afd0-18235404f0cd\" class=\"colab-df-container\">\n",
              "    <div>\n",
              "<style scoped>\n",
              "    .dataframe tbody tr th:only-of-type {\n",
              "        vertical-align: middle;\n",
              "    }\n",
              "\n",
              "    .dataframe tbody tr th {\n",
              "        vertical-align: top;\n",
              "    }\n",
              "\n",
              "    .dataframe thead th {\n",
              "        text-align: right;\n",
              "    }\n",
              "</style>\n",
              "<table border=\"1\" class=\"dataframe\">\n",
              "  <thead>\n",
              "    <tr style=\"text-align: right;\">\n",
              "      <th></th>\n",
              "      <th>K</th>\n",
              "      <th>L</th>\n",
              "      <th>M</th>\n",
              "      <th>N</th>\n",
              "    </tr>\n",
              "  </thead>\n",
              "  <tbody>\n",
              "    <tr>\n",
              "      <th>A</th>\n",
              "      <td>-0.993263</td>\n",
              "      <td>0.196800</td>\n",
              "      <td>-1.136645</td>\n",
              "      <td>0.000366</td>\n",
              "    </tr>\n",
              "    <tr>\n",
              "      <th>B</th>\n",
              "      <td>1.025984</td>\n",
              "      <td>-0.156598</td>\n",
              "      <td>-0.031579</td>\n",
              "      <td>0.649826</td>\n",
              "    </tr>\n",
              "    <tr>\n",
              "      <th>C</th>\n",
              "      <td>2.154846</td>\n",
              "      <td>-0.610259</td>\n",
              "      <td>-0.755325</td>\n",
              "      <td>-0.346419</td>\n",
              "    </tr>\n",
              "    <tr>\n",
              "      <th>D</th>\n",
              "      <td>0.147027</td>\n",
              "      <td>-0.479448</td>\n",
              "      <td>0.558769</td>\n",
              "      <td>1.024810</td>\n",
              "    </tr>\n",
              "    <tr>\n",
              "      <th>E</th>\n",
              "      <td>-0.925874</td>\n",
              "      <td>1.862864</td>\n",
              "      <td>-1.133817</td>\n",
              "      <td>0.610478</td>\n",
              "    </tr>\n",
              "  </tbody>\n",
              "</table>\n",
              "</div>\n",
              "    <div class=\"colab-df-buttons\">\n",
              "\n",
              "  <div class=\"colab-df-container\">\n",
              "    <button class=\"colab-df-convert\" onclick=\"convertToInteractive('df-2784a809-c603-4b5f-afd0-18235404f0cd')\"\n",
              "            title=\"Convert this dataframe to an interactive table.\"\n",
              "            style=\"display:none;\">\n",
              "\n",
              "  <svg xmlns=\"http://www.w3.org/2000/svg\" height=\"24px\" viewBox=\"0 -960 960 960\">\n",
              "    <path d=\"M120-120v-720h720v720H120Zm60-500h600v-160H180v160Zm220 220h160v-160H400v160Zm0 220h160v-160H400v160ZM180-400h160v-160H180v160Zm440 0h160v-160H620v160ZM180-180h160v-160H180v160Zm440 0h160v-160H620v160Z\"/>\n",
              "  </svg>\n",
              "    </button>\n",
              "\n",
              "  <style>\n",
              "    .colab-df-container {\n",
              "      display:flex;\n",
              "      gap: 12px;\n",
              "    }\n",
              "\n",
              "    .colab-df-convert {\n",
              "      background-color: #E8F0FE;\n",
              "      border: none;\n",
              "      border-radius: 50%;\n",
              "      cursor: pointer;\n",
              "      display: none;\n",
              "      fill: #1967D2;\n",
              "      height: 32px;\n",
              "      padding: 0 0 0 0;\n",
              "      width: 32px;\n",
              "    }\n",
              "\n",
              "    .colab-df-convert:hover {\n",
              "      background-color: #E2EBFA;\n",
              "      box-shadow: 0px 1px 2px rgba(60, 64, 67, 0.3), 0px 1px 3px 1px rgba(60, 64, 67, 0.15);\n",
              "      fill: #174EA6;\n",
              "    }\n",
              "\n",
              "    .colab-df-buttons div {\n",
              "      margin-bottom: 4px;\n",
              "    }\n",
              "\n",
              "    [theme=dark] .colab-df-convert {\n",
              "      background-color: #3B4455;\n",
              "      fill: #D2E3FC;\n",
              "    }\n",
              "\n",
              "    [theme=dark] .colab-df-convert:hover {\n",
              "      background-color: #434B5C;\n",
              "      box-shadow: 0px 1px 3px 1px rgba(0, 0, 0, 0.15);\n",
              "      filter: drop-shadow(0px 1px 2px rgba(0, 0, 0, 0.3));\n",
              "      fill: #FFFFFF;\n",
              "    }\n",
              "  </style>\n",
              "\n",
              "    <script>\n",
              "      const buttonEl =\n",
              "        document.querySelector('#df-2784a809-c603-4b5f-afd0-18235404f0cd button.colab-df-convert');\n",
              "      buttonEl.style.display =\n",
              "        google.colab.kernel.accessAllowed ? 'block' : 'none';\n",
              "\n",
              "      async function convertToInteractive(key) {\n",
              "        const element = document.querySelector('#df-2784a809-c603-4b5f-afd0-18235404f0cd');\n",
              "        const dataTable =\n",
              "          await google.colab.kernel.invokeFunction('convertToInteractive',\n",
              "                                                    [key], {});\n",
              "        if (!dataTable) return;\n",
              "\n",
              "        const docLinkHtml = 'Like what you see? Visit the ' +\n",
              "          '<a target=\"_blank\" href=https://colab.research.google.com/notebooks/data_table.ipynb>data table notebook</a>'\n",
              "          + ' to learn more about interactive tables.';\n",
              "        element.innerHTML = '';\n",
              "        dataTable['output_type'] = 'display_data';\n",
              "        await google.colab.output.renderOutput(dataTable, element);\n",
              "        const docLink = document.createElement('div');\n",
              "        docLink.innerHTML = docLinkHtml;\n",
              "        element.appendChild(docLink);\n",
              "      }\n",
              "    </script>\n",
              "  </div>\n",
              "\n",
              "\n",
              "    <div id=\"df-af83ff3a-1a26-491f-a9e4-f40a57d6b0fb\">\n",
              "      <button class=\"colab-df-quickchart\" onclick=\"quickchart('df-af83ff3a-1a26-491f-a9e4-f40a57d6b0fb')\"\n",
              "                title=\"Suggest charts\"\n",
              "                style=\"display:none;\">\n",
              "\n",
              "<svg xmlns=\"http://www.w3.org/2000/svg\" height=\"24px\"viewBox=\"0 0 24 24\"\n",
              "     width=\"24px\">\n",
              "    <g>\n",
              "        <path d=\"M19 3H5c-1.1 0-2 .9-2 2v14c0 1.1.9 2 2 2h14c1.1 0 2-.9 2-2V5c0-1.1-.9-2-2-2zM9 17H7v-7h2v7zm4 0h-2V7h2v10zm4 0h-2v-4h2v4z\"/>\n",
              "    </g>\n",
              "</svg>\n",
              "      </button>\n",
              "\n",
              "<style>\n",
              "  .colab-df-quickchart {\n",
              "      --bg-color: #E8F0FE;\n",
              "      --fill-color: #1967D2;\n",
              "      --hover-bg-color: #E2EBFA;\n",
              "      --hover-fill-color: #174EA6;\n",
              "      --disabled-fill-color: #AAA;\n",
              "      --disabled-bg-color: #DDD;\n",
              "  }\n",
              "\n",
              "  [theme=dark] .colab-df-quickchart {\n",
              "      --bg-color: #3B4455;\n",
              "      --fill-color: #D2E3FC;\n",
              "      --hover-bg-color: #434B5C;\n",
              "      --hover-fill-color: #FFFFFF;\n",
              "      --disabled-bg-color: #3B4455;\n",
              "      --disabled-fill-color: #666;\n",
              "  }\n",
              "\n",
              "  .colab-df-quickchart {\n",
              "    background-color: var(--bg-color);\n",
              "    border: none;\n",
              "    border-radius: 50%;\n",
              "    cursor: pointer;\n",
              "    display: none;\n",
              "    fill: var(--fill-color);\n",
              "    height: 32px;\n",
              "    padding: 0;\n",
              "    width: 32px;\n",
              "  }\n",
              "\n",
              "  .colab-df-quickchart:hover {\n",
              "    background-color: var(--hover-bg-color);\n",
              "    box-shadow: 0 1px 2px rgba(60, 64, 67, 0.3), 0 1px 3px 1px rgba(60, 64, 67, 0.15);\n",
              "    fill: var(--button-hover-fill-color);\n",
              "  }\n",
              "\n",
              "  .colab-df-quickchart-complete:disabled,\n",
              "  .colab-df-quickchart-complete:disabled:hover {\n",
              "    background-color: var(--disabled-bg-color);\n",
              "    fill: var(--disabled-fill-color);\n",
              "    box-shadow: none;\n",
              "  }\n",
              "\n",
              "  .colab-df-spinner {\n",
              "    border: 2px solid var(--fill-color);\n",
              "    border-color: transparent;\n",
              "    border-bottom-color: var(--fill-color);\n",
              "    animation:\n",
              "      spin 1s steps(1) infinite;\n",
              "  }\n",
              "\n",
              "  @keyframes spin {\n",
              "    0% {\n",
              "      border-color: transparent;\n",
              "      border-bottom-color: var(--fill-color);\n",
              "      border-left-color: var(--fill-color);\n",
              "    }\n",
              "    20% {\n",
              "      border-color: transparent;\n",
              "      border-left-color: var(--fill-color);\n",
              "      border-top-color: var(--fill-color);\n",
              "    }\n",
              "    30% {\n",
              "      border-color: transparent;\n",
              "      border-left-color: var(--fill-color);\n",
              "      border-top-color: var(--fill-color);\n",
              "      border-right-color: var(--fill-color);\n",
              "    }\n",
              "    40% {\n",
              "      border-color: transparent;\n",
              "      border-right-color: var(--fill-color);\n",
              "      border-top-color: var(--fill-color);\n",
              "    }\n",
              "    60% {\n",
              "      border-color: transparent;\n",
              "      border-right-color: var(--fill-color);\n",
              "    }\n",
              "    80% {\n",
              "      border-color: transparent;\n",
              "      border-right-color: var(--fill-color);\n",
              "      border-bottom-color: var(--fill-color);\n",
              "    }\n",
              "    90% {\n",
              "      border-color: transparent;\n",
              "      border-bottom-color: var(--fill-color);\n",
              "    }\n",
              "  }\n",
              "</style>\n",
              "\n",
              "      <script>\n",
              "        async function quickchart(key) {\n",
              "          const quickchartButtonEl =\n",
              "            document.querySelector('#' + key + ' button');\n",
              "          quickchartButtonEl.disabled = true;  // To prevent multiple clicks.\n",
              "          quickchartButtonEl.classList.add('colab-df-spinner');\n",
              "          try {\n",
              "            const charts = await google.colab.kernel.invokeFunction(\n",
              "                'suggestCharts', [key], {});\n",
              "          } catch (error) {\n",
              "            console.error('Error during call to suggestCharts:', error);\n",
              "          }\n",
              "          quickchartButtonEl.classList.remove('colab-df-spinner');\n",
              "          quickchartButtonEl.classList.add('colab-df-quickchart-complete');\n",
              "        }\n",
              "        (() => {\n",
              "          let quickchartButtonEl =\n",
              "            document.querySelector('#df-af83ff3a-1a26-491f-a9e4-f40a57d6b0fb button');\n",
              "          quickchartButtonEl.style.display =\n",
              "            google.colab.kernel.accessAllowed ? 'block' : 'none';\n",
              "        })();\n",
              "      </script>\n",
              "    </div>\n",
              "\n",
              "  <div id=\"id_c952f899-374b-4d5a-835b-4e7a16e5d45e\">\n",
              "    <style>\n",
              "      .colab-df-generate {\n",
              "        background-color: #E8F0FE;\n",
              "        border: none;\n",
              "        border-radius: 50%;\n",
              "        cursor: pointer;\n",
              "        display: none;\n",
              "        fill: #1967D2;\n",
              "        height: 32px;\n",
              "        padding: 0 0 0 0;\n",
              "        width: 32px;\n",
              "      }\n",
              "\n",
              "      .colab-df-generate:hover {\n",
              "        background-color: #E2EBFA;\n",
              "        box-shadow: 0px 1px 2px rgba(60, 64, 67, 0.3), 0px 1px 3px 1px rgba(60, 64, 67, 0.15);\n",
              "        fill: #174EA6;\n",
              "      }\n",
              "\n",
              "      [theme=dark] .colab-df-generate {\n",
              "        background-color: #3B4455;\n",
              "        fill: #D2E3FC;\n",
              "      }\n",
              "\n",
              "      [theme=dark] .colab-df-generate:hover {\n",
              "        background-color: #434B5C;\n",
              "        box-shadow: 0px 1px 3px 1px rgba(0, 0, 0, 0.15);\n",
              "        filter: drop-shadow(0px 1px 2px rgba(0, 0, 0, 0.3));\n",
              "        fill: #FFFFFF;\n",
              "      }\n",
              "    </style>\n",
              "    <button class=\"colab-df-generate\" onclick=\"generateWithVariable('df')\"\n",
              "            title=\"Generate code using this dataframe.\"\n",
              "            style=\"display:none;\">\n",
              "\n",
              "  <svg xmlns=\"http://www.w3.org/2000/svg\" height=\"24px\"viewBox=\"0 0 24 24\"\n",
              "       width=\"24px\">\n",
              "    <path d=\"M7,19H8.4L18.45,9,17,7.55,7,17.6ZM5,21V16.75L18.45,3.32a2,2,0,0,1,2.83,0l1.4,1.43a1.91,1.91,0,0,1,.58,1.4,1.91,1.91,0,0,1-.58,1.4L9.25,21ZM18.45,9,17,7.55Zm-12,3A5.31,5.31,0,0,0,4.9,8.1,5.31,5.31,0,0,0,1,6.5,5.31,5.31,0,0,0,4.9,4.9,5.31,5.31,0,0,0,6.5,1,5.31,5.31,0,0,0,8.1,4.9,5.31,5.31,0,0,0,12,6.5,5.46,5.46,0,0,0,6.5,12Z\"/>\n",
              "  </svg>\n",
              "    </button>\n",
              "    <script>\n",
              "      (() => {\n",
              "      const buttonEl =\n",
              "        document.querySelector('#id_c952f899-374b-4d5a-835b-4e7a16e5d45e button.colab-df-generate');\n",
              "      buttonEl.style.display =\n",
              "        google.colab.kernel.accessAllowed ? 'block' : 'none';\n",
              "\n",
              "      buttonEl.onclick = () => {\n",
              "        google.colab.notebook.generateWithVariable('df');\n",
              "      }\n",
              "      })();\n",
              "    </script>\n",
              "  </div>\n",
              "\n",
              "    </div>\n",
              "  </div>\n"
            ],
            "application/vnd.google.colaboratory.intrinsic+json": {
              "type": "dataframe",
              "variable_name": "df",
              "summary": "{\n  \"name\": \"df\",\n  \"rows\": 5,\n  \"fields\": [\n    {\n      \"column\": \"K\",\n      \"properties\": {\n        \"dtype\": \"number\",\n        \"std\": 1.3383330006594478,\n        \"min\": -0.993263499973366,\n        \"max\": 2.154846443259472,\n        \"num_unique_values\": 5,\n        \"samples\": [\n          1.025984152081572,\n          -0.925874258809907,\n          2.154846443259472\n        ],\n        \"semantic_type\": \"\",\n        \"description\": \"\"\n      }\n    },\n    {\n      \"column\": \"L\",\n      \"properties\": {\n        \"dtype\": \"number\",\n        \"std\": 1.0004363446265612,\n        \"min\": -0.6102588558227414,\n        \"max\": 1.8628641384939535,\n        \"num_unique_values\": 5,\n        \"samples\": [\n          -0.1565979042889875,\n          1.8628641384939535,\n          -0.6102588558227414\n        ],\n        \"semantic_type\": \"\",\n        \"description\": \"\"\n      }\n    },\n    {\n      \"column\": \"M\",\n      \"properties\": {\n        \"dtype\": \"number\",\n        \"std\": 0.7437475920645714,\n        \"min\": -1.1366445936091856,\n        \"max\": 0.558769406443067,\n        \"num_unique_values\": 5,\n        \"samples\": [\n          -0.031579143908112575,\n          -1.1338171615837889,\n          -0.755325340010558\n        ],\n        \"semantic_type\": \"\",\n        \"description\": \"\"\n      }\n    },\n    {\n      \"column\": \"N\",\n      \"properties\": {\n        \"dtype\": \"number\",\n        \"std\": 0.5507282963256531,\n        \"min\": -0.34641850351854453,\n        \"max\": 1.0248102783372157,\n        \"num_unique_values\": 5,\n        \"samples\": [\n          0.6498258334908454,\n          0.6104779075384634,\n          -0.34641850351854453\n        ],\n        \"semantic_type\": \"\",\n        \"description\": \"\"\n      }\n    }\n  ]\n}"
            }
          },
          "metadata": {},
          "execution_count": 74
        }
      ]
    },
    {
      "cell_type": "code",
      "source": [
        "#Selecting ROWS\n",
        "print(df)\n",
        "print(\"*\"*50)\n",
        "df.loc['A']\n",
        "df.iloc[0]\n",
        "df.loc['A','K']\n",
        "print(df.shape)\n",
        "print(df.loc['A'])\n",
        "print(df.loc[['A','B'],['K','L']])\n",
        "\n",
        "#test by providing tuple of tuple\n",
        "#read about loc , iloc , ix , nunique in detail\n"
      ],
      "metadata": {
        "colab": {
          "base_uri": "https://localhost:8080/"
        },
        "id": "kW36OAoOM7nQ",
        "outputId": "5e268dab-7491-4460-fe49-305f54ea0f42"
      },
      "execution_count": null,
      "outputs": [
        {
          "output_type": "stream",
          "name": "stdout",
          "text": [
            "          K         L         M         N\n",
            "A -0.993263  0.196800 -1.136645  0.000366\n",
            "B  1.025984 -0.156598 -0.031579  0.649826\n",
            "C  2.154846 -0.610259 -0.755325 -0.346419\n",
            "D  0.147027 -0.479448  0.558769  1.024810\n",
            "E -0.925874  1.862864 -1.133817  0.610478\n",
            "**************************************************\n",
            "(5, 4)\n",
            "K   -0.993263\n",
            "L    0.196800\n",
            "M   -1.136645\n",
            "N    0.000366\n",
            "Name: A, dtype: float64\n",
            "          K         L\n",
            "A -0.993263  0.196800\n",
            "B  1.025984 -0.156598\n"
          ]
        }
      ]
    },
    {
      "cell_type": "markdown",
      "source": [
        "Read file"
      ],
      "metadata": {
        "id": "Sva1bsz6Vk4Q"
      }
    },
    {
      "cell_type": "code",
      "source": [
        "import pandas as pd\n",
        "df=pd.read_csv(\"/content/sample_data/video26_dataset_1.tsv\", sep='\\t')\n",
        "print(df)\n",
        "print(type(df))\n",
        "print(df.shape)\n",
        "print(\"df.columns: \",df.columns)\n",
        "print(\"type(df.columns): \",type(df.columns))\n",
        "print(\"df.dtypes: \", df.dtypes)\n",
        "print(\"type(df.dtypes): \", type(df.dtypes))\n",
        "print(\"*\"*50)\n",
        "print(\"df.info(): \",df.info())\n",
        "country= df[\"country\"]\n",
        "print('country: ',country)\n",
        "print('type(country)',type(country))\n",
        "countries= set(country)  #set i.e. unique country\n",
        "print(countries)\n",
        "print(\"*\"*50)\n",
        "for c in countries: print(c)\n",
        "a=df[[\"country\",\"year\"]]\n",
        "print(a.head())\n",
        "print(a.tail())\n",
        "print(\"*\"*50)\n",
        "print('a.iloc[4] : ',a.iloc[4])   # iloc record at location/index 4\n",
        "print(\"type(a.iloc[4]): \", type(a.iloc[4]))    #Single index for one row [1] returns a Pandas Series.\n",
        "print(\"df.iloc[4]: \",df.iloc[4])\n",
        "print(\"*\"*50)\n",
        "print(df.iloc[ :, 0])\n",
        "# this will return all rows and first columns of data frame, list of indexes [[row, column]] returns a Pandas DataFrame.\n",
        "print('type(df.iloc[ :, 0]): ',type(df.iloc[ :, 0]))\n",
        "print(\"*\"*50)\n",
        "print(df.iloc[range(0,10,2)])\n",
        "print(\"*\"*50)\n",
        "#pandas for SQL\n",
        "print(df.groupby(\"country\")[\"pop\"].sum())\n"
      ],
      "metadata": {
        "colab": {
          "base_uri": "https://localhost:8080/"
        },
        "id": "IrljU_L_V3ME",
        "outputId": "55fdadf4-78ab-4644-9265-69676e1670a2"
      },
      "execution_count": null,
      "outputs": [
        {
          "output_type": "stream",
          "name": "stdout",
          "text": [
            "          country continent  year  lifeExp       pop   gdpPercap\n",
            "0     Afghanistan      Asia  1952   28.801   8425333  779.445314\n",
            "1     Afghanistan      Asia  1957   30.332   9240934  820.853030\n",
            "2     Afghanistan      Asia  1962   31.997  10267083  853.100710\n",
            "3     Afghanistan      Asia  1967   34.020  11537966  836.197138\n",
            "4     Afghanistan      Asia  1972   36.088  13079460  739.981106\n",
            "...           ...       ...   ...      ...       ...         ...\n",
            "1699     Zimbabwe    Africa  1987   62.351   9216418  706.157306\n",
            "1700     Zimbabwe    Africa  1992   60.377  10704340  693.420786\n",
            "1701     Zimbabwe    Africa  1997   46.809  11404948  792.449960\n",
            "1702     Zimbabwe    Africa  2002   39.989  11926563  672.038623\n",
            "1703     Zimbabwe    Africa  2007   43.487  12311143  469.709298\n",
            "\n",
            "[1704 rows x 6 columns]\n",
            "<class 'pandas.core.frame.DataFrame'>\n",
            "(1704, 6)\n",
            "df.columns:  Index(['country', 'continent', 'year', 'lifeExp', 'pop', 'gdpPercap'], dtype='object')\n",
            "type(df.columns):  <class 'pandas.core.indexes.base.Index'>\n",
            "df.dtypes:  country       object\n",
            "continent     object\n",
            "year           int64\n",
            "lifeExp      float64\n",
            "pop            int64\n",
            "gdpPercap    float64\n",
            "dtype: object\n",
            "type(df.dtypes):  <class 'pandas.core.series.Series'>\n",
            "**************************************************\n",
            "<class 'pandas.core.frame.DataFrame'>\n",
            "RangeIndex: 1704 entries, 0 to 1703\n",
            "Data columns (total 6 columns):\n",
            " #   Column     Non-Null Count  Dtype  \n",
            "---  ------     --------------  -----  \n",
            " 0   country    1704 non-null   object \n",
            " 1   continent  1704 non-null   object \n",
            " 2   year       1704 non-null   int64  \n",
            " 3   lifeExp    1704 non-null   float64\n",
            " 4   pop        1704 non-null   int64  \n",
            " 5   gdpPercap  1704 non-null   float64\n",
            "dtypes: float64(2), int64(2), object(2)\n",
            "memory usage: 80.0+ KB\n",
            "df.info():  None\n",
            "country:  0       Afghanistan\n",
            "1       Afghanistan\n",
            "2       Afghanistan\n",
            "3       Afghanistan\n",
            "4       Afghanistan\n",
            "           ...     \n",
            "1699       Zimbabwe\n",
            "1700       Zimbabwe\n",
            "1701       Zimbabwe\n",
            "1702       Zimbabwe\n",
            "1703       Zimbabwe\n",
            "Name: country, Length: 1704, dtype: object\n",
            "type(country) <class 'pandas.core.series.Series'>\n",
            "{'China', 'Peru', 'Slovak Republic', 'Zimbabwe', 'Mauritania', 'Honduras', 'Indonesia', 'Bosnia and Herzegovina', 'South Africa', 'Zambia', 'Iraq', 'Slovenia', 'Switzerland', 'Burundi', 'Bolivia', 'Saudi Arabia', 'Ireland', 'Sao Tome and Principe', 'Guinea', 'Jordan', 'Hong Kong, China', 'Singapore', 'Malaysia', 'Denmark', 'Panama', 'Montenegro', 'Uganda', 'Bahrain', 'Korea, Dem. Rep.', 'Sudan', 'Nepal', 'Cambodia', 'Djibouti', 'Eritrea', 'Somalia', 'Kuwait', 'Dominican Republic', 'Turkey', 'Mozambique', 'Nicaragua', 'El Salvador', 'Poland', 'Tunisia', 'Mali', 'Niger', 'Colombia', 'Romania', 'Portugal', 'Iran', 'Libya', 'Greece', 'Lesotho', 'Puerto Rico', 'Brazil', 'Namibia', 'Bulgaria', 'Thailand', 'Nigeria', 'Belgium', 'Costa Rica', 'Rwanda', 'Sweden', 'West Bank and Gaza', 'Argentina', 'Chile', 'Togo', 'Netherlands', 'Germany', 'Serbia', 'Kenya', 'Bangladesh', 'Iceland', 'Central African Republic', 'Liberia', 'Oman', 'Gambia', 'Canada', 'Tanzania', 'Cuba', 'Guinea-Bissau', 'Norway', 'Cameroon', 'Yemen, Rep.', 'Algeria', 'Albania', 'Chad', 'Jamaica', 'Pakistan', 'France', 'Myanmar', 'Congo, Dem. Rep.', 'Guatemala', 'Vietnam', 'Afghanistan', 'Mexico', 'Egypt', 'Haiti', 'United States', 'Austria', 'Sierra Leone', 'Syria', 'United Kingdom', 'Japan', 'Croatia', 'Gabon', 'Burkina Faso', 'Reunion', 'Philippines', 'Malawi', 'Ecuador', 'New Zealand', 'Uruguay', 'Equatorial Guinea', 'Australia', 'Trinidad and Tobago', 'Taiwan', 'Morocco', 'Comoros', \"Cote d'Ivoire\", 'Lebanon', 'Korea, Rep.', 'Benin', 'Hungary', 'Swaziland', 'Israel', 'Madagascar', 'Ethiopia', 'Senegal', 'Mauritius', 'Paraguay', 'Venezuela', 'Botswana', 'Ghana', 'India', 'Finland', 'Czech Republic', 'Mongolia', 'Sri Lanka', 'Italy', 'Congo, Rep.', 'Angola', 'Spain'}\n",
            "**************************************************\n",
            "China\n",
            "Peru\n",
            "Slovak Republic\n",
            "Zimbabwe\n",
            "Mauritania\n",
            "Honduras\n",
            "Indonesia\n",
            "Bosnia and Herzegovina\n",
            "South Africa\n",
            "Zambia\n",
            "Iraq\n",
            "Slovenia\n",
            "Switzerland\n",
            "Burundi\n",
            "Bolivia\n",
            "Saudi Arabia\n",
            "Ireland\n",
            "Sao Tome and Principe\n",
            "Guinea\n",
            "Jordan\n",
            "Hong Kong, China\n",
            "Singapore\n",
            "Malaysia\n",
            "Denmark\n",
            "Panama\n",
            "Montenegro\n",
            "Uganda\n",
            "Bahrain\n",
            "Korea, Dem. Rep.\n",
            "Sudan\n",
            "Nepal\n",
            "Cambodia\n",
            "Djibouti\n",
            "Eritrea\n",
            "Somalia\n",
            "Kuwait\n",
            "Dominican Republic\n",
            "Turkey\n",
            "Mozambique\n",
            "Nicaragua\n",
            "El Salvador\n",
            "Poland\n",
            "Tunisia\n",
            "Mali\n",
            "Niger\n",
            "Colombia\n",
            "Romania\n",
            "Portugal\n",
            "Iran\n",
            "Libya\n",
            "Greece\n",
            "Lesotho\n",
            "Puerto Rico\n",
            "Brazil\n",
            "Namibia\n",
            "Bulgaria\n",
            "Thailand\n",
            "Nigeria\n",
            "Belgium\n",
            "Costa Rica\n",
            "Rwanda\n",
            "Sweden\n",
            "West Bank and Gaza\n",
            "Argentina\n",
            "Chile\n",
            "Togo\n",
            "Netherlands\n",
            "Germany\n",
            "Serbia\n",
            "Kenya\n",
            "Bangladesh\n",
            "Iceland\n",
            "Central African Republic\n",
            "Liberia\n",
            "Oman\n",
            "Gambia\n",
            "Canada\n",
            "Tanzania\n",
            "Cuba\n",
            "Guinea-Bissau\n",
            "Norway\n",
            "Cameroon\n",
            "Yemen, Rep.\n",
            "Algeria\n",
            "Albania\n",
            "Chad\n",
            "Jamaica\n",
            "Pakistan\n",
            "France\n",
            "Myanmar\n",
            "Congo, Dem. Rep.\n",
            "Guatemala\n",
            "Vietnam\n",
            "Afghanistan\n",
            "Mexico\n",
            "Egypt\n",
            "Haiti\n",
            "United States\n",
            "Austria\n",
            "Sierra Leone\n",
            "Syria\n",
            "United Kingdom\n",
            "Japan\n",
            "Croatia\n",
            "Gabon\n",
            "Burkina Faso\n",
            "Reunion\n",
            "Philippines\n",
            "Malawi\n",
            "Ecuador\n",
            "New Zealand\n",
            "Uruguay\n",
            "Equatorial Guinea\n",
            "Australia\n",
            "Trinidad and Tobago\n",
            "Taiwan\n",
            "Morocco\n",
            "Comoros\n",
            "Cote d'Ivoire\n",
            "Lebanon\n",
            "Korea, Rep.\n",
            "Benin\n",
            "Hungary\n",
            "Swaziland\n",
            "Israel\n",
            "Madagascar\n",
            "Ethiopia\n",
            "Senegal\n",
            "Mauritius\n",
            "Paraguay\n",
            "Venezuela\n",
            "Botswana\n",
            "Ghana\n",
            "India\n",
            "Finland\n",
            "Czech Republic\n",
            "Mongolia\n",
            "Sri Lanka\n",
            "Italy\n",
            "Congo, Rep.\n",
            "Angola\n",
            "Spain\n",
            "       country  year\n",
            "0  Afghanistan  1952\n",
            "1  Afghanistan  1957\n",
            "2  Afghanistan  1962\n",
            "3  Afghanistan  1967\n",
            "4  Afghanistan  1972\n",
            "       country  year\n",
            "1699  Zimbabwe  1987\n",
            "1700  Zimbabwe  1992\n",
            "1701  Zimbabwe  1997\n",
            "1702  Zimbabwe  2002\n",
            "1703  Zimbabwe  2007\n",
            "**************************************************\n",
            "a.iloc[4] :  country    Afghanistan\n",
            "year              1972\n",
            "Name: 4, dtype: object\n",
            "type(a.iloc[4]):  <class 'pandas.core.series.Series'>\n",
            "df.iloc[4]:  country      Afghanistan\n",
            "continent           Asia\n",
            "year                1972\n",
            "lifeExp           36.088\n",
            "pop             13079460\n",
            "gdpPercap     739.981106\n",
            "Name: 4, dtype: object\n",
            "**************************************************\n",
            "0       Afghanistan\n",
            "1       Afghanistan\n",
            "2       Afghanistan\n",
            "3       Afghanistan\n",
            "4       Afghanistan\n",
            "           ...     \n",
            "1699       Zimbabwe\n",
            "1700       Zimbabwe\n",
            "1701       Zimbabwe\n",
            "1702       Zimbabwe\n",
            "1703       Zimbabwe\n",
            "Name: country, Length: 1704, dtype: object\n",
            "type(df.iloc[ :, 0]):  <class 'pandas.core.series.Series'>\n",
            "**************************************************\n",
            "       country continent  year  lifeExp       pop   gdpPercap\n",
            "0  Afghanistan      Asia  1952   28.801   8425333  779.445314\n",
            "2  Afghanistan      Asia  1962   31.997  10267083  853.100710\n",
            "4  Afghanistan      Asia  1972   36.088  13079460  739.981106\n",
            "6  Afghanistan      Asia  1982   39.854  12881816  978.011439\n",
            "8  Afghanistan      Asia  1992   41.674  16317921  649.341395\n",
            "**************************************************\n",
            "country\n",
            "Afghanistan           189884585\n",
            "Albania                30962990\n",
            "Algeria               238504874\n",
            "Angola                 87712681\n",
            "Argentina             343226879\n",
            "                        ...    \n",
            "Vietnam               654822851\n",
            "West Bank and Gaza     22183278\n",
            "Yemen, Rep.           130118302\n",
            "Zambia                 76245658\n",
            "Zimbabwe               91703593\n",
            "Name: pop, Length: 142, dtype: int64\n"
          ]
        }
      ]
    },
    {
      "cell_type": "code",
      "source": [
        "import pandas\n",
        "citiesDataFrame = pandas.DataFrame({\"city_code\":[1,2,3,4,5],\"city_name\":[\"Ujjain\",'Indore','Banglore','Mumbai','Delhi']})\n",
        "studentDataFrame = pandas.DataFrame({\"student_rollno\":[101,206,394,445,675],\"student_name\":[\"1\",'2','3','4','5'],\"city_code\":[1,2,3,2,1]})\n",
        "companyDataFrame = pandas.DataFrame({\"company_id\":[11,26,38,45,59],\"city\":[1,5,4,1,3]})\n",
        "student_with_cities = pandas.merge(studentDataFrame,citiesDataFrame, how =\"inner\", on = [\"city_code\"])\n",
        "print(student_with_cities)\n"
      ],
      "metadata": {
        "id": "81D2PvCmWu8A",
        "colab": {
          "base_uri": "https://localhost:8080/"
        },
        "outputId": "f1ddf1cb-8855-4c7a-b3d0-efe589e79651"
      },
      "execution_count": null,
      "outputs": [
        {
          "output_type": "stream",
          "name": "stdout",
          "text": [
            "   student_rollno student_name  city_code city_name\n",
            "0             101            1          1    Ujjain\n",
            "1             206            2          2    Indore\n",
            "2             394            3          3  Banglore\n",
            "3             445            4          2    Indore\n",
            "4             675            5          1    Ujjain\n"
          ]
        }
      ]
    },
    {
      "cell_type": "code",
      "source": [
        "# if the both dataframe may have different name and city code\n",
        "companyDataFrame = pandas.merge(citiesDataFrame,companyDataFrame, how =\"inner\", left_on = [\"city_code\"], right_on = [\"city\"])\n",
        "print(companyDataFrame)"
      ],
      "metadata": {
        "id": "d6DSSS26PT6d",
        "colab": {
          "base_uri": "https://localhost:8080/"
        },
        "outputId": "18f70fbc-29b2-4357-b0ac-32f1cd93d374"
      },
      "execution_count": null,
      "outputs": [
        {
          "output_type": "stream",
          "name": "stdout",
          "text": [
            "   city_code_x city_name_x  city_code_y city_name_y  company_id  city\n",
            "0            1      Ujjain            1      Ujjain          11     1\n",
            "1            1      Ujjain            1      Ujjain          45     1\n",
            "2            3    Banglore            3    Banglore          59     3\n",
            "3            4      Mumbai            4      Mumbai          38     4\n",
            "4            5       Delhi            5       Delhi          26     5\n"
          ]
        }
      ]
    },
    {
      "cell_type": "code",
      "source": [
        "#read json file\n",
        "import json\n",
        "#opening json file\n",
        "f = open(\"Employee.json\")\n",
        "#return JSON object as Distionary\n",
        "employee_data = json.load(f)\n",
        "\n",
        "#iteration through the Json list\n",
        "for i in employee_data['emp_details']:\n",
        "    print(i)\n",
        "    print(type(i))\n",
        "f.close()\n"
      ],
      "metadata": {
        "colab": {
          "base_uri": "https://localhost:8080/"
        },
        "id": "0z7ImWoZgYOX",
        "outputId": "2af93356-06a5-4a4a-9772-cb5fa26e294d"
      },
      "execution_count": null,
      "outputs": [
        {
          "output_type": "stream",
          "name": "stdout",
          "text": [
            "{'emp_name': 'XYZ', 'email_id': 'XYZ@gmail.com', 'job_profile': 'Data Scientist'}\n",
            "<class 'dict'>\n",
            "{'emp_name': 'A', 'email_id': 'A@gmail.com', 'job_profile': 'Manager'}\n",
            "<class 'dict'>\n"
          ]
        }
      ]
    },
    {
      "cell_type": "code",
      "source": [
        "series_data = pandas.Series([1,2,3,4,5])\n",
        "result=series_data.agg([sum,len])\n",
        "print(result)"
      ],
      "metadata": {
        "colab": {
          "base_uri": "https://localhost:8080/"
        },
        "id": "HZXHPkCrjbxo",
        "outputId": "fca2c6d0-60c5-40e0-924d-7b1ae79f117c"
      },
      "execution_count": null,
      "outputs": [
        {
          "output_type": "stream",
          "name": "stdout",
          "text": [
            "sum    15\n",
            "len     5\n",
            "dtype: int64\n"
          ]
        },
        {
          "output_type": "stream",
          "name": "stderr",
          "text": [
            "/tmp/ipython-input-12-4117583373.py:2: FutureWarning: The provided callable <built-in function sum> is currently using Series.sum. In a future version of pandas, the provided callable will be used directly. To keep current behavior pass the string \"sum\" instead.\n",
            "  result=series_data.agg([sum,len])\n"
          ]
        }
      ]
    },
    {
      "cell_type": "code",
      "source": [
        "def string_length(s):\n",
        "    print(\"string_length called\")\n",
        "    return len(s)"
      ],
      "metadata": {
        "id": "kQ4g_8-QkMRa"
      },
      "execution_count": null,
      "outputs": []
    },
    {
      "cell_type": "code",
      "source": [
        "def int_length(i):\n",
        "    print(\"int_legth called\")\n",
        "    return string_length(str(i))"
      ],
      "metadata": {
        "id": "levqM95Rk_g9"
      },
      "execution_count": null,
      "outputs": []
    },
    {
      "cell_type": "code",
      "source": [
        "\n",
        "def get_length_of_elements(t):\n",
        "  a=[]\n",
        "  for x in t:\n",
        "   if isinstance(x, int): a.append(int_length)\n",
        "   if isinstance(x, str): a.append(string_length)\n",
        "  return  length_of_element_iterator_factory(t,a)\n",
        "\n",
        "class length_of_element_iterator_factory:\n",
        "    def __init__(self, t, a):\n",
        "       self.t=t\n",
        "       self.a=a\n",
        "    def __iter__(self):\n",
        "       return length_of_element_iterator(self)\n",
        "\n",
        "class length_of_element_iterator:\n",
        "    def __init__(self, obj):\n",
        "        self.t= obj.t\n",
        "        self.a= obj.a\n",
        "        self.index= 0\n",
        "    def __next__(self):\n",
        "        if self.index >= len(self.t):\n",
        "           raise StopIteration\n",
        "        k= self.a[self.index](self.t[self.index])\n",
        "        self.index +=1\n",
        "        return k\n"
      ],
      "metadata": {
        "id": "cqpXagx0lAyF"
      },
      "execution_count": null,
      "outputs": []
    },
    {
      "cell_type": "code",
      "source": [
        "\n",
        "x=(10,20,\"Good\", \"Example of functional programming\", 30)\n",
        "b= get_length_of_elements(x)\n",
        "print()\n",
        "print()\n",
        "print(\"called length of elements\")\n",
        "print()\n",
        "print()\n",
        "for i in b:\n",
        "  print(i)"
      ],
      "metadata": {
        "colab": {
          "base_uri": "https://localhost:8080/"
        },
        "id": "fEmc6SEglNen",
        "outputId": "f7419bfd-ecde-4540-8846-743ba2719a1c"
      },
      "execution_count": null,
      "outputs": [
        {
          "output_type": "stream",
          "name": "stdout",
          "text": [
            "\n",
            "\n",
            "called length of elements\n",
            "\n",
            "\n",
            "int_legth called\n",
            "string_length called\n",
            "2\n",
            "int_legth called\n",
            "string_length called\n",
            "2\n",
            "string_length called\n",
            "4\n",
            "string_length called\n",
            "33\n",
            "int_legth called\n",
            "string_length called\n",
            "2\n"
          ]
        }
      ]
    },
    {
      "cell_type": "code",
      "source": [],
      "metadata": {
        "id": "a8_EYKxWlmAy"
      },
      "execution_count": null,
      "outputs": []
    }
  ]
}